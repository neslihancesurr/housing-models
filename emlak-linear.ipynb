{
 "cells": [
  {
   "cell_type": "code",
   "execution_count": 1,
   "id": "ae1b8eb4-8231-45a6-9110-3859c47ab6c8",
   "metadata": {},
   "outputs": [],
   "source": [
    "import pandas as pd\n",
    "import numpy as np\n",
    "from sklearn.model_selection import StratifiedKFold\n",
    "from sklearn.preprocessing import StandardScaler, OneHotEncoder\n",
    "from sklearn.compose import ColumnTransformer\n",
    "from sklearn.pipeline import Pipeline\n",
    "from sklearn.linear_model import LinearRegression\n",
    "from sklearn.metrics import mean_absolute_error"
   ]
  },
  {
   "cell_type": "code",
   "execution_count": 2,
   "id": "54fd919c-3132-4c48-be13-ecda14acd9db",
   "metadata": {},
   "outputs": [
    {
     "data": {
      "text/html": [
       "<div>\n",
       "<style scoped>\n",
       "    .dataframe tbody tr th:only-of-type {\n",
       "        vertical-align: middle;\n",
       "    }\n",
       "\n",
       "    .dataframe tbody tr th {\n",
       "        vertical-align: top;\n",
       "    }\n",
       "\n",
       "    .dataframe thead th {\n",
       "        text-align: right;\n",
       "    }\n",
       "</style>\n",
       "<table border=\"1\" class=\"dataframe\">\n",
       "  <thead>\n",
       "    <tr style=\"text-align: right;\">\n",
       "      <th></th>\n",
       "      <th>Fiyat</th>\n",
       "      <th>Brüt M2</th>\n",
       "      <th>Bulunduğu Kat</th>\n",
       "      <th>Bina Yaşı</th>\n",
       "      <th>İlçe</th>\n",
       "      <th>Mahalle</th>\n",
       "      <th>Oda</th>\n",
       "    </tr>\n",
       "  </thead>\n",
       "  <tbody>\n",
       "    <tr>\n",
       "      <th>0</th>\n",
       "      <td>5390000</td>\n",
       "      <td>85.0</td>\n",
       "      <td>-1.0</td>\n",
       "      <td>5</td>\n",
       "      <td>Maltepe</td>\n",
       "      <td>Altıntepe</td>\n",
       "      <td>2</td>\n",
       "    </tr>\n",
       "    <tr>\n",
       "      <th>1</th>\n",
       "      <td>5690000</td>\n",
       "      <td>65.0</td>\n",
       "      <td>3.0</td>\n",
       "      <td>4</td>\n",
       "      <td>Kartal</td>\n",
       "      <td>Orhantepe</td>\n",
       "      <td>1</td>\n",
       "    </tr>\n",
       "    <tr>\n",
       "      <th>2</th>\n",
       "      <td>1850000</td>\n",
       "      <td>112.0</td>\n",
       "      <td>2.0</td>\n",
       "      <td>0</td>\n",
       "      <td>Esenyurt</td>\n",
       "      <td>Çınar</td>\n",
       "      <td>3</td>\n",
       "    </tr>\n",
       "    <tr>\n",
       "      <th>3</th>\n",
       "      <td>895000</td>\n",
       "      <td>104.0</td>\n",
       "      <td>-1.0</td>\n",
       "      <td>5</td>\n",
       "      <td>Esenyurt</td>\n",
       "      <td>Yeşilkent</td>\n",
       "      <td>2</td>\n",
       "    </tr>\n",
       "    <tr>\n",
       "      <th>4</th>\n",
       "      <td>3250000</td>\n",
       "      <td>170.0</td>\n",
       "      <td>2.0</td>\n",
       "      <td>0</td>\n",
       "      <td>Beylikdüzü</td>\n",
       "      <td>Adnan Kahveci</td>\n",
       "      <td>3</td>\n",
       "    </tr>\n",
       "  </tbody>\n",
       "</table>\n",
       "</div>"
      ],
      "text/plain": [
       "     Fiyat  Brüt M2  Bulunduğu Kat  Bina Yaşı        İlçe        Mahalle  Oda\n",
       "0  5390000     85.0           -1.0          5     Maltepe      Altıntepe    2\n",
       "1  5690000     65.0            3.0          4      Kartal      Orhantepe    1\n",
       "2  1850000    112.0            2.0          0    Esenyurt          Çınar    3\n",
       "3   895000    104.0           -1.0          5    Esenyurt      Yeşilkent    2\n",
       "4  3250000    170.0            2.0          0  Beylikdüzü  Adnan Kahveci    3"
      ]
     },
     "execution_count": 2,
     "metadata": {},
     "output_type": "execute_result"
    }
   ],
   "source": [
    "df = pd.read_json(\"cleaned_data_model.json\")\n",
    "df.head()"
   ]
  },
  {
   "cell_type": "markdown",
   "id": "4699637c-7136-49ae-8df2-aafa6d956669",
   "metadata": {},
   "source": [
    "Make sure there are no null values. Look at the statistics of each column."
   ]
  },
  {
   "cell_type": "code",
   "execution_count": 3,
   "id": "df85604e-fed2-4218-94b1-2bd233205c60",
   "metadata": {},
   "outputs": [
    {
     "name": "stdout",
     "output_type": "stream",
     "text": [
      "Fiyat            0\n",
      "Brüt M2          0\n",
      "Bulunduğu Kat    0\n",
      "Bina Yaşı        0\n",
      "İlçe             0\n",
      "Mahalle          0\n",
      "Oda              0\n",
      "dtype: int64\n",
      "              Fiyat       Brüt M2  Bulunduğu Kat     Bina Yaşı           Oda\n",
      "count  2.377000e+04  23770.000000   23770.000000  23770.000000  23770.000000\n",
      "mean   9.251593e+06    128.668915       3.314703     12.684771      2.589230\n",
      "std    1.184127e+07     56.595839       3.854961     14.023572      0.967068\n",
      "min    3.200000e+05     15.000000      -3.000000      0.000000      1.000000\n",
      "25%    3.250000e+06     90.000000       1.000000      1.000000      2.000000\n",
      "50%    5.450000e+06    115.000000       2.500000      6.000000      2.000000\n",
      "75%    1.060000e+07    150.000000       4.000000     25.000000      3.000000\n",
      "max    2.000000e+08    600.000000      45.000000    120.000000      8.000000\n"
     ]
    }
   ],
   "source": [
    "print(df.isnull().sum())\n",
    "print(df.describe())"
   ]
  },
  {
   "cell_type": "markdown",
   "id": "9385e748-4d34-4b87-b6ed-ec6f8ad11821",
   "metadata": {},
   "source": [
    "### Log Transformation for the price column"
   ]
  },
  {
   "cell_type": "code",
   "execution_count": 4,
   "id": "385aa1e9-d115-4963-af7f-45380fda3f87",
   "metadata": {},
   "outputs": [
    {
     "data": {
      "text/html": [
       "<div>\n",
       "<style scoped>\n",
       "    .dataframe tbody tr th:only-of-type {\n",
       "        vertical-align: middle;\n",
       "    }\n",
       "\n",
       "    .dataframe tbody tr th {\n",
       "        vertical-align: top;\n",
       "    }\n",
       "\n",
       "    .dataframe thead th {\n",
       "        text-align: right;\n",
       "    }\n",
       "</style>\n",
       "<table border=\"1\" class=\"dataframe\">\n",
       "  <thead>\n",
       "    <tr style=\"text-align: right;\">\n",
       "      <th></th>\n",
       "      <th>Fiyat</th>\n",
       "      <th>Brüt M2</th>\n",
       "      <th>Bulunduğu Kat</th>\n",
       "      <th>Bina Yaşı</th>\n",
       "      <th>İlçe</th>\n",
       "      <th>Mahalle</th>\n",
       "      <th>Oda</th>\n",
       "    </tr>\n",
       "  </thead>\n",
       "  <tbody>\n",
       "    <tr>\n",
       "      <th>0</th>\n",
       "      <td>15.500056</td>\n",
       "      <td>85.0</td>\n",
       "      <td>-1.0</td>\n",
       "      <td>5</td>\n",
       "      <td>Maltepe</td>\n",
       "      <td>Altıntepe</td>\n",
       "      <td>2</td>\n",
       "    </tr>\n",
       "    <tr>\n",
       "      <th>1</th>\n",
       "      <td>15.554221</td>\n",
       "      <td>65.0</td>\n",
       "      <td>3.0</td>\n",
       "      <td>4</td>\n",
       "      <td>Kartal</td>\n",
       "      <td>Orhantepe</td>\n",
       "      <td>1</td>\n",
       "    </tr>\n",
       "    <tr>\n",
       "      <th>2</th>\n",
       "      <td>14.430697</td>\n",
       "      <td>112.0</td>\n",
       "      <td>2.0</td>\n",
       "      <td>0</td>\n",
       "      <td>Esenyurt</td>\n",
       "      <td>Çınar</td>\n",
       "      <td>3</td>\n",
       "    </tr>\n",
       "    <tr>\n",
       "      <th>3</th>\n",
       "      <td>13.704580</td>\n",
       "      <td>104.0</td>\n",
       "      <td>-1.0</td>\n",
       "      <td>5</td>\n",
       "      <td>Esenyurt</td>\n",
       "      <td>Yeşilkent</td>\n",
       "      <td>2</td>\n",
       "    </tr>\n",
       "    <tr>\n",
       "      <th>4</th>\n",
       "      <td>14.994166</td>\n",
       "      <td>170.0</td>\n",
       "      <td>2.0</td>\n",
       "      <td>0</td>\n",
       "      <td>Beylikdüzü</td>\n",
       "      <td>Adnan Kahveci</td>\n",
       "      <td>3</td>\n",
       "    </tr>\n",
       "  </tbody>\n",
       "</table>\n",
       "</div>"
      ],
      "text/plain": [
       "       Fiyat  Brüt M2  Bulunduğu Kat  Bina Yaşı        İlçe        Mahalle  \\\n",
       "0  15.500056     85.0           -1.0          5     Maltepe      Altıntepe   \n",
       "1  15.554221     65.0            3.0          4      Kartal      Orhantepe   \n",
       "2  14.430697    112.0            2.0          0    Esenyurt          Çınar   \n",
       "3  13.704580    104.0           -1.0          5    Esenyurt      Yeşilkent   \n",
       "4  14.994166    170.0            2.0          0  Beylikdüzü  Adnan Kahveci   \n",
       "\n",
       "   Oda  \n",
       "0    2  \n",
       "1    1  \n",
       "2    3  \n",
       "3    2  \n",
       "4    3  "
      ]
     },
     "execution_count": 4,
     "metadata": {},
     "output_type": "execute_result"
    }
   ],
   "source": [
    "df['Fiyat'] = np.log1p(df['Fiyat'])\n",
    "df.head()"
   ]
  },
  {
   "cell_type": "markdown",
   "id": "e8642a2b-6b90-4568-8f1a-e5369ee46c8d",
   "metadata": {},
   "source": [
    "Removing the neighborhood to simplify the features."
   ]
  },
  {
   "cell_type": "code",
   "execution_count": 5,
   "id": "d9fc1404-8568-40ff-8d28-2e1d78ba13a3",
   "metadata": {},
   "outputs": [
    {
     "data": {
      "text/html": [
       "<div>\n",
       "<style scoped>\n",
       "    .dataframe tbody tr th:only-of-type {\n",
       "        vertical-align: middle;\n",
       "    }\n",
       "\n",
       "    .dataframe tbody tr th {\n",
       "        vertical-align: top;\n",
       "    }\n",
       "\n",
       "    .dataframe thead th {\n",
       "        text-align: right;\n",
       "    }\n",
       "</style>\n",
       "<table border=\"1\" class=\"dataframe\">\n",
       "  <thead>\n",
       "    <tr style=\"text-align: right;\">\n",
       "      <th></th>\n",
       "      <th>Fiyat</th>\n",
       "      <th>Brüt M2</th>\n",
       "      <th>Bulunduğu Kat</th>\n",
       "      <th>Bina Yaşı</th>\n",
       "      <th>İlçe</th>\n",
       "      <th>Oda</th>\n",
       "    </tr>\n",
       "  </thead>\n",
       "  <tbody>\n",
       "    <tr>\n",
       "      <th>0</th>\n",
       "      <td>15.500056</td>\n",
       "      <td>85.0</td>\n",
       "      <td>-1.0</td>\n",
       "      <td>5</td>\n",
       "      <td>Maltepe</td>\n",
       "      <td>2</td>\n",
       "    </tr>\n",
       "    <tr>\n",
       "      <th>1</th>\n",
       "      <td>15.554221</td>\n",
       "      <td>65.0</td>\n",
       "      <td>3.0</td>\n",
       "      <td>4</td>\n",
       "      <td>Kartal</td>\n",
       "      <td>1</td>\n",
       "    </tr>\n",
       "    <tr>\n",
       "      <th>2</th>\n",
       "      <td>14.430697</td>\n",
       "      <td>112.0</td>\n",
       "      <td>2.0</td>\n",
       "      <td>0</td>\n",
       "      <td>Esenyurt</td>\n",
       "      <td>3</td>\n",
       "    </tr>\n",
       "    <tr>\n",
       "      <th>3</th>\n",
       "      <td>13.704580</td>\n",
       "      <td>104.0</td>\n",
       "      <td>-1.0</td>\n",
       "      <td>5</td>\n",
       "      <td>Esenyurt</td>\n",
       "      <td>2</td>\n",
       "    </tr>\n",
       "    <tr>\n",
       "      <th>4</th>\n",
       "      <td>14.994166</td>\n",
       "      <td>170.0</td>\n",
       "      <td>2.0</td>\n",
       "      <td>0</td>\n",
       "      <td>Beylikdüzü</td>\n",
       "      <td>3</td>\n",
       "    </tr>\n",
       "  </tbody>\n",
       "</table>\n",
       "</div>"
      ],
      "text/plain": [
       "       Fiyat  Brüt M2  Bulunduğu Kat  Bina Yaşı        İlçe  Oda\n",
       "0  15.500056     85.0           -1.0          5     Maltepe    2\n",
       "1  15.554221     65.0            3.0          4      Kartal    1\n",
       "2  14.430697    112.0            2.0          0    Esenyurt    3\n",
       "3  13.704580    104.0           -1.0          5    Esenyurt    2\n",
       "4  14.994166    170.0            2.0          0  Beylikdüzü    3"
      ]
     },
     "execution_count": 5,
     "metadata": {},
     "output_type": "execute_result"
    }
   ],
   "source": [
    "df = df.drop('Mahalle', axis=1)\n",
    "df.head()"
   ]
  },
  {
   "cell_type": "markdown",
   "id": "b478f865-313a-4834-b71f-e4978b17d6b7",
   "metadata": {},
   "source": [
    "Define X variable as the target, and y variable as the features."
   ]
  },
  {
   "cell_type": "code",
   "execution_count": 6,
   "id": "a5a401d2-3656-404d-a42c-1240af3f2e5e",
   "metadata": {},
   "outputs": [],
   "source": [
    "X = df.drop(columns=[\"Fiyat\"])\n",
    "y = df[\"Fiyat\"]"
   ]
  },
  {
   "cell_type": "markdown",
   "id": "2b06cb0d-8ed7-47ce-adb6-8106ffd9ec4a",
   "metadata": {},
   "source": [
    "Separate numerical and categorical features. Carry out preprocessing: numerical features scaled with the standard scaler while the categorical features are encoded with one-hot-encoding."
   ]
  },
  {
   "cell_type": "code",
   "execution_count": 7,
   "id": "b31c9054-aff2-4986-8c01-631588b49b84",
   "metadata": {},
   "outputs": [],
   "source": [
    "num_features = [\"Brüt M2\", \"Bulunduğu Kat\", \"Bina Yaşı\", \"Oda\"]\n",
    "cat_features = [\"İlçe\"]\n",
    "\n",
    "preprocessor = ColumnTransformer([\n",
    "    (\"num\", StandardScaler(), num_features),\n",
    "    (\"cat\", OneHotEncoder(), cat_features)\n",
    "])"
   ]
  },
  {
   "cell_type": "markdown",
   "id": "cd8f62df-91d8-494f-b757-d5a849f1de31",
   "metadata": {},
   "source": [
    "Initialized the Stratified K-fold object with 5 splits. Shuffle the data before splitting and make it reproducible with the seed.\n",
    "Create pipeline with the preprocessor and regressor."
   ]
  },
  {
   "cell_type": "code",
   "execution_count": 8,
   "id": "361b9183-7a69-4f08-bcca-b3dd5938e287",
   "metadata": {},
   "outputs": [],
   "source": [
    "skf = StratifiedKFold(n_splits=5, shuffle=True, random_state=42)\n",
    "\n",
    "pipeline = Pipeline(steps=[\n",
    "    (\"preprocessor\", preprocessor),\n",
    "    (\"regressor\", LinearRegression())\n",
    "])"
   ]
  },
  {
   "cell_type": "markdown",
   "id": "66d3c73f-827d-4a46-996c-0a0651eec901",
   "metadata": {},
   "source": [
    "Create the 10 different price bins for stratification."
   ]
  },
  {
   "cell_type": "code",
   "execution_count": 9,
   "id": "bd4c14cc-545d-445d-9673-840cbf1a3caf",
   "metadata": {},
   "outputs": [],
   "source": [
    "price_bins = pd.qcut(y, q=5, labels=False) "
   ]
  },
  {
   "cell_type": "markdown",
   "id": "de18336a-f474-4961-aab6-fdc40d15ede1",
   "metadata": {},
   "source": [
    "Train the model and calculate Mean Absolute Error and Normalized Absolute Error."
   ]
  },
  {
   "cell_type": "code",
   "execution_count": 10,
   "id": "f544c69c-2205-43ce-b6ed-fc09242deb49",
   "metadata": {},
   "outputs": [
    {
     "name": "stdout",
     "output_type": "stream",
     "text": [
      "Fold MAE (log scale): 0.3123, MAE (original scale): 3292811.79, NAE: 0.0200\n",
      "Fold MAE (log scale): 0.3087, MAE (original scale): 3182976.99, NAE: 0.0161\n",
      "Fold MAE (log scale): 0.3094, MAE (original scale): 3244546.95, NAE: 0.0181\n",
      "Fold MAE (log scale): 0.3160, MAE (original scale): 3281883.14, NAE: 0.0164\n",
      "Fold MAE (log scale): 0.3101, MAE (original scale): 3333814.51, NAE: 0.0181\n",
      "Mean MAE (log scale): 0.3113\n",
      "Mean NAE: 0.0177\n"
     ]
    }
   ],
   "source": [
    "# Initialize lists to store the errors\n",
    "mae_scores = []\n",
    "nae_scores = []\n",
    "\n",
    "# Start the loop to be able to work on each fold\n",
    "for train_idx, val_idx in skf.split(X, price_bins):\n",
    "    X_train, X_val = X.iloc[train_idx], X.iloc[val_idx]\n",
    "    y_train, y_val = y.iloc[train_idx], y.iloc[val_idx] # Set the train and validation variable with the split indexes\n",
    "    \n",
    "    # Fit the features and target in the pipeline and get a prediction for a data point the the validation set\n",
    "    pipeline.fit(X_train, y_train)\n",
    "    y_pred = pipeline.predict(X_val)\n",
    "    \n",
    "    # Calculate MAE in the log scale given the prediction and the actual price in the validation set\n",
    "    mae_log = mean_absolute_error(y_val, y_pred)\n",
    "    \n",
    "    # Convert to original scale and calculate MAE\n",
    "    y_val_original = np.exp(y_val)\n",
    "    y_pred_original = np.exp(y_pred)\n",
    "    mae_original = mean_absolute_error(y_val_original, y_pred_original)\n",
    "    \n",
    "    # Calculate Normalized Absolute Error (NAE) : Find the range in the validation set and divide MAE by the range\n",
    "    y_val_range = y_val_original.max() - y_val_original.min()\n",
    "    if y_val_range > 0:\n",
    "        nae = mae_original / y_val_range\n",
    "    else:\n",
    "        nae = np.nan  # Handle cases where the range is zero\n",
    "    nae_scores.append(nae)\n",
    "    \n",
    "    print(f\"Fold MAE (log scale): {mae_log:.4f}, MAE (original scale): {mae_original:.2f}, NAE: {nae:.4f}\")\n",
    "    mae_scores.append(mae_log)\n",
    "\n",
    "# Final mean values of MAE and NAE\n",
    "print(f\"Mean MAE (log scale): {np.mean(mae_scores):.4f}\")\n",
    "print(f\"Mean NAE: {np.mean(nae_scores):.4f}\")\n"
   ]
  },
  {
   "cell_type": "code",
   "execution_count": null,
   "id": "a12ac780-2d03-4cc0-ae72-7eccaad43ef6",
   "metadata": {},
   "outputs": [],
   "source": []
  },
  {
   "cell_type": "markdown",
   "id": "5fdce857-3113-468b-a2e8-6beab1b58b05",
   "metadata": {},
   "source": [
    "With 10 bins of price:\n",
    " - Fold MAE (log scale): 0.3094, MAE (original scale): 3221141.31, NAE: 0.0179\n",
    " - Fold MAE (log scale): 0.3115, MAE (original scale): 3422145.23, NAE: 0.0171\n",
    " - Fold MAE (log scale): 0.3156, MAE (original scale): 3246152.62, NAE: 0.0164\n",
    " - Fold MAE (log scale): 0.3117, MAE (original scale): 3179684.70, NAE: 0.0236\n",
    " - Fold MAE (log scale): 0.3081, MAE (original scale): 3261997.70, NAE: 0.0192\n",
    "\n",
    "Mean MAE (log scale): 0.3113  \n",
    "Mean NAE: 0.0189"
   ]
  },
  {
   "cell_type": "code",
   "execution_count": 23,
   "id": "106d85da-e1d8-43e4-ab13-6c77e2db8941",
   "metadata": {},
   "outputs": [
    {
     "name": "stdout",
     "output_type": "stream",
     "text": [
      "District: Üsküdar Price: 3987959.31\n",
      "District: Üsküdar Price: 5579336.22\n",
      "District: Fatih Price: 3637496.21\n"
     ]
    }
   ],
   "source": [
    "new_data = pd.DataFrame({\n",
    "    \"Brüt M2\": [40, 100, 150],\n",
    "    \"Bulunduğu Kat\": [1, -2, 5],\n",
    "    \"Bina Yaşı\": [10, 10, 60],\n",
    "    \"Oda\": [1, 1, 3],\n",
    "    \"İlçe\": [\"Üsküdar\", \"Üsküdar\", \"Fatih\"]  # Example districts\n",
    "})\n",
    "\n",
    "pipeline.fit(X, y)\n",
    "predictions = pipeline.predict(new_data)\n",
    "predictions_original_scale = np.exp(predictions)\n",
    "\n",
    "for district, prediction in zip(new_data['İlçe'], predictions_original_scale):\n",
    "    print(f\"District: {district} Price: {prediction:.2f}\")"
   ]
  }
 ],
 "metadata": {
  "kernelspec": {
   "display_name": "emlak_project",
   "language": "python",
   "name": "emlak_project"
  },
  "language_info": {
   "codemirror_mode": {
    "name": "ipython",
    "version": 3
   },
   "file_extension": ".py",
   "mimetype": "text/x-python",
   "name": "python",
   "nbconvert_exporter": "python",
   "pygments_lexer": "ipython3",
   "version": "3.12.1"
  }
 },
 "nbformat": 4,
 "nbformat_minor": 5
}
