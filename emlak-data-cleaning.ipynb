{
 "cells": [
  {
   "cell_type": "code",
   "execution_count": 1,
   "id": "eec890a9-0da6-4592-ba0f-261cef921259",
   "metadata": {},
   "outputs": [],
   "source": [
    "import pandas as pd\n",
    "import numpy as np\n",
    "import matplotlib.pyplot as plt\n",
    "import seaborn as sns"
   ]
  },
  {
   "cell_type": "markdown",
   "id": "0aa72827-31aa-429e-abfd-0bf3fef856d8",
   "metadata": {},
   "source": [
    "## Understanding the data\n",
    "This cell opens the json file as a DataFrame in Pandas. Then, we print the shape of the DataFrame which shows 24016 rows and 15 columns. The final line of code prints an overview of each column, showing the first and last 5 rows with column names."
   ]
  },
  {
   "cell_type": "code",
   "execution_count": 2,
   "id": "b697b39a-f498-4ad3-b205-067506fafd45",
   "metadata": {
    "scrolled": true
   },
   "outputs": [
    {
     "name": "stdout",
     "output_type": "stream",
     "text": [
      "(24016, 15)\n"
     ]
    },
    {
     "data": {
      "text/plain": [
       "<bound method DataFrame.info of                                                   Başlık          Fiyat  \\\n",
       "0      ▃۩ADA'dan۩▃TEK YETKİLİ▃MİNİBÜSE YAKIN▃GENÇ BİN...   5.390.000 TL   \n",
       "1      HACIALİOĞLU'NDAN PRAVA KARTALDA ÖN CEPHE BALKO...   5.690.000 TL   \n",
       "2      SIFIR İNŞAATTA 3+1 TEK DAİRE ÜZERİ 3 CEPHESİ A...   1.850.000 TL   \n",
       "3      KELEPİR 2+1  İÇİ YAPILI ÇİFT CEPHE MERKEZİ KON...     895.000 TL   \n",
       "4      BEYLİKDÜZÜ ASRİVA'DAN BUTİK SİTE İÇİ EMSALLERİ...   3.250.000 TL   \n",
       "...                                                  ...            ...   \n",
       "24011  ŞİRİNEVLER MERKEZ'DE 13 YILLIK SATILIK 3.KAT 1...   2.650.000 TL   \n",
       "24012  Azizoğlu GAYRİMENKULDEN SELAMİ ALİ MAHLESINDE ...   4.050.000 TL   \n",
       "24013  BLUECORNERDAN ERENKÖYDE MARMARAYA YAKIN 3+1 15...  17.000.000 TL   \n",
       "24014  BÜYÜKÇEKMECEDE MERKEZİ KONUMDA DENİZE KOMŞU SI...   3.990.000 TL   \n",
       "24015             SUR YAPI MİRAGE PROJESİNDE SATILIK 3+1   8.250.000 TL   \n",
       "\n",
       "      Oda + Salon Sayısı Brüt / Net M2 Bulunduğu Kat   Bina Yaşı  \\\n",
       "0                  2 + 1         85 m2    Bahçe Katı   5 Yaşında   \n",
       "1                  1 + 1         65 m2        3. Kat   4 Yaşında   \n",
       "2                  3 + 1        112 m2        2. Kat  Sıfır Bina   \n",
       "3                  2 + 1        104 m2    Bahçe Katı   5 Yaşında   \n",
       "4                  3 + 1        170 m2        2. Kat  Sıfır Bina   \n",
       "...                  ...           ...           ...         ...   \n",
       "24011              1 + 1         65 m2        3. Kat  13 Yaşında   \n",
       "24012              3 + 1         95 m2       Ara Kat  32 Yaşında   \n",
       "24013              3 + 1        170 m2        4. Kat  25 Yaşında   \n",
       "24014              2 + 1         85 m2        1. Kat  Sıfır Bina   \n",
       "24015              3 + 1        169 m2        1. Kat   5 Yaşında   \n",
       "\n",
       "               Isınma Tipi Kat Sayısı   Eşya Durumu  Banyo Sayısı  \\\n",
       "0                  Merkezi    4 Katlı  Eşyalı Değil           1.0   \n",
       "1      Merkezi (Pay Ölçer)   26 Katlı  Eşyalı Değil           1.0   \n",
       "2                    Kombi    5 Katlı  Eşyalı Değil           1.0   \n",
       "3                    Kombi    4 Katlı  Eşyalı Değil           1.0   \n",
       "4                    Kombi    4 Katlı  Eşyalı Değil           2.0   \n",
       "...                    ...        ...           ...           ...   \n",
       "24011                Kombi    5 Katlı  Eşyalı Değil           1.0   \n",
       "24012                Kombi    5 Katlı  Eşyalı Değil           1.0   \n",
       "24013              Merkezi    7 Katlı  Eşyalı Değil           2.0   \n",
       "24014  Merkezi (Pay Ölçer)    4 Katlı          None           1.0   \n",
       "24015  Merkezi (Pay Ölçer)   15 Katlı  Eşyalı Değil           2.0   \n",
       "\n",
       "      Kullanım Durumu    Tapu Durumu          İlçe        Mahalle  \\\n",
       "0                 Boş  Kat Mülkiyeti       Maltepe      Altıntepe   \n",
       "1                 Boş  Kat Mülkiyeti        Kartal      Orhantepe   \n",
       "2                 Boş  Kat Mülkiyeti      Esenyurt          Çınar   \n",
       "3                 Boş  Kat Mülkiyeti      Esenyurt      Yeşilkent   \n",
       "4                 Boş       Tapu Yok    Beylikdüzü  Adnan Kahveci   \n",
       "...               ...            ...           ...            ...   \n",
       "24011             Boş  Kat Mülkiyeti  Bahçelievler     Şirinevler   \n",
       "24012        Kiracılı  Kat Mülkiyeti       Üsküdar     Selami Ali   \n",
       "24013     Mülk Sahibi  Kat Mülkiyeti       Kadıköy        Erenköy   \n",
       "24014             Boş           None  Büyükçekmece        Atatürk   \n",
       "24015        Kiracılı  Kat Mülkiyeti      Bağcılar      15 Temmuz   \n",
       "\n",
       "                                                    Link  \n",
       "0      https://www.hepsiemlak.com/istanbul-maltepe-al...  \n",
       "1      https://www.hepsiemlak.com/istanbul-kartal-orh...  \n",
       "2      https://www.hepsiemlak.com/istanbul-esenyurt-c...  \n",
       "3      https://www.hepsiemlak.com/istanbul-esenyurt-y...  \n",
       "4      https://www.hepsiemlak.com/istanbul-beylikduzu...  \n",
       "...                                                  ...  \n",
       "24011  https://www.hepsiemlak.com/istanbul-bahcelievl...  \n",
       "24012  https://www.hepsiemlak.com/istanbul-uskudar-se...  \n",
       "24013  https://www.hepsiemlak.com/istanbul-kadikoy-er...  \n",
       "24014  https://www.hepsiemlak.com/istanbul-buyukcekme...  \n",
       "24015  https://www.hepsiemlak.com/istanbul-bagcilar-1...  \n",
       "\n",
       "[24016 rows x 15 columns]>"
      ]
     },
     "execution_count": 2,
     "metadata": {},
     "output_type": "execute_result"
    }
   ],
   "source": [
    "df = pd.read_json(\"novemberdata.json\")\n",
    "print(df.shape)\n",
    "df.info"
   ]
  },
  {
   "cell_type": "markdown",
   "id": "ee2dc0e1-efb4-43be-9204-d765406ce717",
   "metadata": {},
   "source": [
    "#### The first 5 rows of the data frame."
   ]
  },
  {
   "cell_type": "code",
   "execution_count": 3,
   "id": "6fd788e0-2be0-42c7-bbe3-cd8a40d2e9c0",
   "metadata": {
    "scrolled": true
   },
   "outputs": [
    {
     "data": {
      "text/html": [
       "<div>\n",
       "<style scoped>\n",
       "    .dataframe tbody tr th:only-of-type {\n",
       "        vertical-align: middle;\n",
       "    }\n",
       "\n",
       "    .dataframe tbody tr th {\n",
       "        vertical-align: top;\n",
       "    }\n",
       "\n",
       "    .dataframe thead th {\n",
       "        text-align: right;\n",
       "    }\n",
       "</style>\n",
       "<table border=\"1\" class=\"dataframe\">\n",
       "  <thead>\n",
       "    <tr style=\"text-align: right;\">\n",
       "      <th></th>\n",
       "      <th>Başlık</th>\n",
       "      <th>Fiyat</th>\n",
       "      <th>Oda + Salon Sayısı</th>\n",
       "      <th>Brüt / Net M2</th>\n",
       "      <th>Bulunduğu Kat</th>\n",
       "      <th>Bina Yaşı</th>\n",
       "      <th>Isınma Tipi</th>\n",
       "      <th>Kat Sayısı</th>\n",
       "      <th>Eşya Durumu</th>\n",
       "      <th>Banyo Sayısı</th>\n",
       "      <th>Kullanım Durumu</th>\n",
       "      <th>Tapu Durumu</th>\n",
       "      <th>İlçe</th>\n",
       "      <th>Mahalle</th>\n",
       "      <th>Link</th>\n",
       "    </tr>\n",
       "  </thead>\n",
       "  <tbody>\n",
       "    <tr>\n",
       "      <th>0</th>\n",
       "      <td>▃۩ADA'dan۩▃TEK YETKİLİ▃MİNİBÜSE YAKIN▃GENÇ BİN...</td>\n",
       "      <td>5.390.000 TL</td>\n",
       "      <td>2 + 1</td>\n",
       "      <td>85 m2</td>\n",
       "      <td>Bahçe Katı</td>\n",
       "      <td>5 Yaşında</td>\n",
       "      <td>Merkezi</td>\n",
       "      <td>4 Katlı</td>\n",
       "      <td>Eşyalı Değil</td>\n",
       "      <td>1.0</td>\n",
       "      <td>Boş</td>\n",
       "      <td>Kat Mülkiyeti</td>\n",
       "      <td>Maltepe</td>\n",
       "      <td>Altıntepe</td>\n",
       "      <td>https://www.hepsiemlak.com/istanbul-maltepe-al...</td>\n",
       "    </tr>\n",
       "    <tr>\n",
       "      <th>1</th>\n",
       "      <td>HACIALİOĞLU'NDAN PRAVA KARTALDA ÖN CEPHE BALKO...</td>\n",
       "      <td>5.690.000 TL</td>\n",
       "      <td>1 + 1</td>\n",
       "      <td>65 m2</td>\n",
       "      <td>3. Kat</td>\n",
       "      <td>4 Yaşında</td>\n",
       "      <td>Merkezi (Pay Ölçer)</td>\n",
       "      <td>26 Katlı</td>\n",
       "      <td>Eşyalı Değil</td>\n",
       "      <td>1.0</td>\n",
       "      <td>Boş</td>\n",
       "      <td>Kat Mülkiyeti</td>\n",
       "      <td>Kartal</td>\n",
       "      <td>Orhantepe</td>\n",
       "      <td>https://www.hepsiemlak.com/istanbul-kartal-orh...</td>\n",
       "    </tr>\n",
       "    <tr>\n",
       "      <th>2</th>\n",
       "      <td>SIFIR İNŞAATTA 3+1 TEK DAİRE ÜZERİ 3 CEPHESİ A...</td>\n",
       "      <td>1.850.000 TL</td>\n",
       "      <td>3 + 1</td>\n",
       "      <td>112 m2</td>\n",
       "      <td>2. Kat</td>\n",
       "      <td>Sıfır Bina</td>\n",
       "      <td>Kombi</td>\n",
       "      <td>5 Katlı</td>\n",
       "      <td>Eşyalı Değil</td>\n",
       "      <td>1.0</td>\n",
       "      <td>Boş</td>\n",
       "      <td>Kat Mülkiyeti</td>\n",
       "      <td>Esenyurt</td>\n",
       "      <td>Çınar</td>\n",
       "      <td>https://www.hepsiemlak.com/istanbul-esenyurt-c...</td>\n",
       "    </tr>\n",
       "    <tr>\n",
       "      <th>3</th>\n",
       "      <td>KELEPİR 2+1  İÇİ YAPILI ÇİFT CEPHE MERKEZİ KON...</td>\n",
       "      <td>895.000 TL</td>\n",
       "      <td>2 + 1</td>\n",
       "      <td>104 m2</td>\n",
       "      <td>Bahçe Katı</td>\n",
       "      <td>5 Yaşında</td>\n",
       "      <td>Kombi</td>\n",
       "      <td>4 Katlı</td>\n",
       "      <td>Eşyalı Değil</td>\n",
       "      <td>1.0</td>\n",
       "      <td>Boş</td>\n",
       "      <td>Kat Mülkiyeti</td>\n",
       "      <td>Esenyurt</td>\n",
       "      <td>Yeşilkent</td>\n",
       "      <td>https://www.hepsiemlak.com/istanbul-esenyurt-y...</td>\n",
       "    </tr>\n",
       "    <tr>\n",
       "      <th>4</th>\n",
       "      <td>BEYLİKDÜZÜ ASRİVA'DAN BUTİK SİTE İÇİ EMSALLERİ...</td>\n",
       "      <td>3.250.000 TL</td>\n",
       "      <td>3 + 1</td>\n",
       "      <td>170 m2</td>\n",
       "      <td>2. Kat</td>\n",
       "      <td>Sıfır Bina</td>\n",
       "      <td>Kombi</td>\n",
       "      <td>4 Katlı</td>\n",
       "      <td>Eşyalı Değil</td>\n",
       "      <td>2.0</td>\n",
       "      <td>Boş</td>\n",
       "      <td>Tapu Yok</td>\n",
       "      <td>Beylikdüzü</td>\n",
       "      <td>Adnan Kahveci</td>\n",
       "      <td>https://www.hepsiemlak.com/istanbul-beylikduzu...</td>\n",
       "    </tr>\n",
       "  </tbody>\n",
       "</table>\n",
       "</div>"
      ],
      "text/plain": [
       "                                              Başlık         Fiyat  \\\n",
       "0  ▃۩ADA'dan۩▃TEK YETKİLİ▃MİNİBÜSE YAKIN▃GENÇ BİN...  5.390.000 TL   \n",
       "1  HACIALİOĞLU'NDAN PRAVA KARTALDA ÖN CEPHE BALKO...  5.690.000 TL   \n",
       "2  SIFIR İNŞAATTA 3+1 TEK DAİRE ÜZERİ 3 CEPHESİ A...  1.850.000 TL   \n",
       "3  KELEPİR 2+1  İÇİ YAPILI ÇİFT CEPHE MERKEZİ KON...    895.000 TL   \n",
       "4  BEYLİKDÜZÜ ASRİVA'DAN BUTİK SİTE İÇİ EMSALLERİ...  3.250.000 TL   \n",
       "\n",
       "  Oda + Salon Sayısı Brüt / Net M2 Bulunduğu Kat   Bina Yaşı  \\\n",
       "0              2 + 1         85 m2    Bahçe Katı   5 Yaşında   \n",
       "1              1 + 1         65 m2        3. Kat   4 Yaşında   \n",
       "2              3 + 1        112 m2        2. Kat  Sıfır Bina   \n",
       "3              2 + 1        104 m2    Bahçe Katı   5 Yaşında   \n",
       "4              3 + 1        170 m2        2. Kat  Sıfır Bina   \n",
       "\n",
       "           Isınma Tipi Kat Sayısı   Eşya Durumu  Banyo Sayısı Kullanım Durumu  \\\n",
       "0              Merkezi    4 Katlı  Eşyalı Değil           1.0             Boş   \n",
       "1  Merkezi (Pay Ölçer)   26 Katlı  Eşyalı Değil           1.0             Boş   \n",
       "2                Kombi    5 Katlı  Eşyalı Değil           1.0             Boş   \n",
       "3                Kombi    4 Katlı  Eşyalı Değil           1.0             Boş   \n",
       "4                Kombi    4 Katlı  Eşyalı Değil           2.0             Boş   \n",
       "\n",
       "     Tapu Durumu        İlçe        Mahalle  \\\n",
       "0  Kat Mülkiyeti     Maltepe      Altıntepe   \n",
       "1  Kat Mülkiyeti      Kartal      Orhantepe   \n",
       "2  Kat Mülkiyeti    Esenyurt          Çınar   \n",
       "3  Kat Mülkiyeti    Esenyurt      Yeşilkent   \n",
       "4       Tapu Yok  Beylikdüzü  Adnan Kahveci   \n",
       "\n",
       "                                                Link  \n",
       "0  https://www.hepsiemlak.com/istanbul-maltepe-al...  \n",
       "1  https://www.hepsiemlak.com/istanbul-kartal-orh...  \n",
       "2  https://www.hepsiemlak.com/istanbul-esenyurt-c...  \n",
       "3  https://www.hepsiemlak.com/istanbul-esenyurt-y...  \n",
       "4  https://www.hepsiemlak.com/istanbul-beylikduzu...  "
      ]
     },
     "execution_count": 3,
     "metadata": {},
     "output_type": "execute_result"
    }
   ],
   "source": [
    "df.head()"
   ]
  },
  {
   "cell_type": "markdown",
   "id": "8f1cedee-2839-4165-84ec-2addf4f1b93c",
   "metadata": {},
   "source": [
    "#### Checking the values and their types"
   ]
  },
  {
   "cell_type": "code",
   "execution_count": 4,
   "id": "233a89ae-475a-40d0-8367-cd7db6deeda6",
   "metadata": {},
   "outputs": [
    {
     "name": "stdout",
     "output_type": "stream",
     "text": [
      "5.390.000 TL\n",
      "▃۩ADA'dan۩▃TEK YETKİLİ▃MİNİBÜSE YAKIN▃GENÇ BİNADA▃AÇIK MUTFAKLI▃BAHÇE TERASI KULLANIMLI FERAH 2+1▃\n",
      "The type of the title is <class 'str'>\n",
      "The type of the price is <class 'str'>\n",
      "As a Pandas Series object: 0         5.390.000 TL\n",
      "1         5.690.000 TL\n",
      "2         1.850.000 TL\n",
      "3           895.000 TL\n",
      "4         3.250.000 TL\n",
      "             ...      \n",
      "24011     2.650.000 TL\n",
      "24012     4.050.000 TL\n",
      "24013    17.000.000 TL\n",
      "24014     3.990.000 TL\n",
      "24015     8.250.000 TL\n",
      "Name: Fiyat, Length: 24016, dtype: object Object type: <class 'pandas.core.series.Series'>\n",
      "As a numpy array: ['5.390.000 TL' '5.690.000 TL' '1.850.000 TL' ... '17.000.000 TL'\n",
      " '3.990.000 TL' '8.250.000 TL']\n"
     ]
    }
   ],
   "source": [
    "prices = df['Fiyat']\n",
    "prices_nparray = df['Fiyat'].to_numpy()\n",
    "titles = df['Başlık']\n",
    "first_price = df['Fiyat'][0]\n",
    "first_title = df['Başlık'][0]\n",
    "print(first_price)\n",
    "print(first_title)\n",
    "print(f\"The type of the title is {type(first_title)}\")\n",
    "print(f\"The type of the price is {type(first_price)}\")\n",
    "print(f\"As a Pandas Series object: {prices} Object type: {type(prices)}\")\n",
    "print(f\"As a numpy array: {prices_nparray}\")"
   ]
  },
  {
   "cell_type": "markdown",
   "id": "65877bb8-455b-42ef-a500-d24372d4dd9d",
   "metadata": {},
   "source": [
    "## Modifying the DataFrame for easier manipulation\n",
    "#### Removing unnecessary colums and some other fixes\n",
    "This code removes the columns called Başlık, Kullanım Durumu, Link, Isınma Tipi and Tapu Durumu. It then changes the naming of a column to match what is actually included in it. It also breaks the column Oda + Salon Sayısı into two separate columns. \n",
    "Then, it prints the renewed data."
   ]
  },
  {
   "cell_type": "code",
   "execution_count": 5,
   "id": "99a53a00-17d6-4e6b-8ad6-ca9b231894e5",
   "metadata": {},
   "outputs": [
    {
     "data": {
      "text/html": [
       "<div>\n",
       "<style scoped>\n",
       "    .dataframe tbody tr th:only-of-type {\n",
       "        vertical-align: middle;\n",
       "    }\n",
       "\n",
       "    .dataframe tbody tr th {\n",
       "        vertical-align: top;\n",
       "    }\n",
       "\n",
       "    .dataframe thead th {\n",
       "        text-align: right;\n",
       "    }\n",
       "</style>\n",
       "<table border=\"1\" class=\"dataframe\">\n",
       "  <thead>\n",
       "    <tr style=\"text-align: right;\">\n",
       "      <th></th>\n",
       "      <th>Fiyat</th>\n",
       "      <th>Oda + Salon Sayısı</th>\n",
       "      <th>Brüt M2</th>\n",
       "      <th>Bulunduğu Kat</th>\n",
       "      <th>Bina Yaşı</th>\n",
       "      <th>Kat Sayısı</th>\n",
       "      <th>Eşya Durumu</th>\n",
       "      <th>Banyo Sayısı</th>\n",
       "      <th>İlçe</th>\n",
       "      <th>Mahalle</th>\n",
       "    </tr>\n",
       "  </thead>\n",
       "  <tbody>\n",
       "    <tr>\n",
       "      <th>0</th>\n",
       "      <td>5.390.000 TL</td>\n",
       "      <td>2 + 1</td>\n",
       "      <td>85 m2</td>\n",
       "      <td>Bahçe Katı</td>\n",
       "      <td>5 Yaşında</td>\n",
       "      <td>4 Katlı</td>\n",
       "      <td>Eşyalı Değil</td>\n",
       "      <td>1.0</td>\n",
       "      <td>Maltepe</td>\n",
       "      <td>Altıntepe</td>\n",
       "    </tr>\n",
       "    <tr>\n",
       "      <th>1</th>\n",
       "      <td>5.690.000 TL</td>\n",
       "      <td>1 + 1</td>\n",
       "      <td>65 m2</td>\n",
       "      <td>3. Kat</td>\n",
       "      <td>4 Yaşında</td>\n",
       "      <td>26 Katlı</td>\n",
       "      <td>Eşyalı Değil</td>\n",
       "      <td>1.0</td>\n",
       "      <td>Kartal</td>\n",
       "      <td>Orhantepe</td>\n",
       "    </tr>\n",
       "    <tr>\n",
       "      <th>2</th>\n",
       "      <td>1.850.000 TL</td>\n",
       "      <td>3 + 1</td>\n",
       "      <td>112 m2</td>\n",
       "      <td>2. Kat</td>\n",
       "      <td>Sıfır Bina</td>\n",
       "      <td>5 Katlı</td>\n",
       "      <td>Eşyalı Değil</td>\n",
       "      <td>1.0</td>\n",
       "      <td>Esenyurt</td>\n",
       "      <td>Çınar</td>\n",
       "    </tr>\n",
       "    <tr>\n",
       "      <th>3</th>\n",
       "      <td>895.000 TL</td>\n",
       "      <td>2 + 1</td>\n",
       "      <td>104 m2</td>\n",
       "      <td>Bahçe Katı</td>\n",
       "      <td>5 Yaşında</td>\n",
       "      <td>4 Katlı</td>\n",
       "      <td>Eşyalı Değil</td>\n",
       "      <td>1.0</td>\n",
       "      <td>Esenyurt</td>\n",
       "      <td>Yeşilkent</td>\n",
       "    </tr>\n",
       "    <tr>\n",
       "      <th>4</th>\n",
       "      <td>3.250.000 TL</td>\n",
       "      <td>3 + 1</td>\n",
       "      <td>170 m2</td>\n",
       "      <td>2. Kat</td>\n",
       "      <td>Sıfır Bina</td>\n",
       "      <td>4 Katlı</td>\n",
       "      <td>Eşyalı Değil</td>\n",
       "      <td>2.0</td>\n",
       "      <td>Beylikdüzü</td>\n",
       "      <td>Adnan Kahveci</td>\n",
       "    </tr>\n",
       "  </tbody>\n",
       "</table>\n",
       "</div>"
      ],
      "text/plain": [
       "          Fiyat Oda + Salon Sayısı Brüt M2 Bulunduğu Kat   Bina Yaşı  \\\n",
       "0  5.390.000 TL              2 + 1   85 m2    Bahçe Katı   5 Yaşında   \n",
       "1  5.690.000 TL              1 + 1   65 m2        3. Kat   4 Yaşında   \n",
       "2  1.850.000 TL              3 + 1  112 m2        2. Kat  Sıfır Bina   \n",
       "3    895.000 TL              2 + 1  104 m2    Bahçe Katı   5 Yaşında   \n",
       "4  3.250.000 TL              3 + 1  170 m2        2. Kat  Sıfır Bina   \n",
       "\n",
       "  Kat Sayısı   Eşya Durumu  Banyo Sayısı        İlçe        Mahalle  \n",
       "0    4 Katlı  Eşyalı Değil           1.0     Maltepe      Altıntepe  \n",
       "1   26 Katlı  Eşyalı Değil           1.0      Kartal      Orhantepe  \n",
       "2    5 Katlı  Eşyalı Değil           1.0    Esenyurt          Çınar  \n",
       "3    4 Katlı  Eşyalı Değil           1.0    Esenyurt      Yeşilkent  \n",
       "4    4 Katlı  Eşyalı Değil           2.0  Beylikdüzü  Adnan Kahveci  "
      ]
     },
     "execution_count": 5,
     "metadata": {},
     "output_type": "execute_result"
    }
   ],
   "source": [
    "df = df.drop(columns=[\"Başlık\", \"Kullanım Durumu\", \"Link\", \"Tapu Durumu\", \"Isınma Tipi\"])\n",
    "df = df.rename(columns={\"Brüt / Net M2\": \"Brüt M2\"})\n",
    "df.head()"
   ]
  },
  {
   "cell_type": "markdown",
   "id": "390ccf5a-6afa-40e6-8d87-20d8a729fac2",
   "metadata": {},
   "source": [
    "#### Clean the price and turn into a float\n",
    "Starting with the prices, we get rid of elements such as TL, dots and empty spaces. Then, we turn the entire column to be of type float. We display the new table."
   ]
  },
  {
   "cell_type": "code",
   "execution_count": 6,
   "id": "1956593a-adaf-4c20-860b-b36b36bc2f20",
   "metadata": {},
   "outputs": [
    {
     "data": {
      "text/html": [
       "<div>\n",
       "<style scoped>\n",
       "    .dataframe tbody tr th:only-of-type {\n",
       "        vertical-align: middle;\n",
       "    }\n",
       "\n",
       "    .dataframe tbody tr th {\n",
       "        vertical-align: top;\n",
       "    }\n",
       "\n",
       "    .dataframe thead th {\n",
       "        text-align: right;\n",
       "    }\n",
       "</style>\n",
       "<table border=\"1\" class=\"dataframe\">\n",
       "  <thead>\n",
       "    <tr style=\"text-align: right;\">\n",
       "      <th></th>\n",
       "      <th>Fiyat</th>\n",
       "      <th>Oda + Salon Sayısı</th>\n",
       "      <th>Brüt M2</th>\n",
       "      <th>Bulunduğu Kat</th>\n",
       "      <th>Bina Yaşı</th>\n",
       "      <th>Kat Sayısı</th>\n",
       "      <th>Eşya Durumu</th>\n",
       "      <th>Banyo Sayısı</th>\n",
       "      <th>İlçe</th>\n",
       "      <th>Mahalle</th>\n",
       "    </tr>\n",
       "  </thead>\n",
       "  <tbody>\n",
       "    <tr>\n",
       "      <th>0</th>\n",
       "      <td>5390000.0</td>\n",
       "      <td>2 + 1</td>\n",
       "      <td>85 m2</td>\n",
       "      <td>Bahçe Katı</td>\n",
       "      <td>5 Yaşında</td>\n",
       "      <td>4 Katlı</td>\n",
       "      <td>Eşyalı Değil</td>\n",
       "      <td>1.0</td>\n",
       "      <td>Maltepe</td>\n",
       "      <td>Altıntepe</td>\n",
       "    </tr>\n",
       "    <tr>\n",
       "      <th>1</th>\n",
       "      <td>5690000.0</td>\n",
       "      <td>1 + 1</td>\n",
       "      <td>65 m2</td>\n",
       "      <td>3. Kat</td>\n",
       "      <td>4 Yaşında</td>\n",
       "      <td>26 Katlı</td>\n",
       "      <td>Eşyalı Değil</td>\n",
       "      <td>1.0</td>\n",
       "      <td>Kartal</td>\n",
       "      <td>Orhantepe</td>\n",
       "    </tr>\n",
       "    <tr>\n",
       "      <th>2</th>\n",
       "      <td>1850000.0</td>\n",
       "      <td>3 + 1</td>\n",
       "      <td>112 m2</td>\n",
       "      <td>2. Kat</td>\n",
       "      <td>Sıfır Bina</td>\n",
       "      <td>5 Katlı</td>\n",
       "      <td>Eşyalı Değil</td>\n",
       "      <td>1.0</td>\n",
       "      <td>Esenyurt</td>\n",
       "      <td>Çınar</td>\n",
       "    </tr>\n",
       "    <tr>\n",
       "      <th>3</th>\n",
       "      <td>895000.0</td>\n",
       "      <td>2 + 1</td>\n",
       "      <td>104 m2</td>\n",
       "      <td>Bahçe Katı</td>\n",
       "      <td>5 Yaşında</td>\n",
       "      <td>4 Katlı</td>\n",
       "      <td>Eşyalı Değil</td>\n",
       "      <td>1.0</td>\n",
       "      <td>Esenyurt</td>\n",
       "      <td>Yeşilkent</td>\n",
       "    </tr>\n",
       "    <tr>\n",
       "      <th>4</th>\n",
       "      <td>3250000.0</td>\n",
       "      <td>3 + 1</td>\n",
       "      <td>170 m2</td>\n",
       "      <td>2. Kat</td>\n",
       "      <td>Sıfır Bina</td>\n",
       "      <td>4 Katlı</td>\n",
       "      <td>Eşyalı Değil</td>\n",
       "      <td>2.0</td>\n",
       "      <td>Beylikdüzü</td>\n",
       "      <td>Adnan Kahveci</td>\n",
       "    </tr>\n",
       "  </tbody>\n",
       "</table>\n",
       "</div>"
      ],
      "text/plain": [
       "       Fiyat Oda + Salon Sayısı Brüt M2 Bulunduğu Kat   Bina Yaşı Kat Sayısı  \\\n",
       "0  5390000.0              2 + 1   85 m2    Bahçe Katı   5 Yaşında    4 Katlı   \n",
       "1  5690000.0              1 + 1   65 m2        3. Kat   4 Yaşında   26 Katlı   \n",
       "2  1850000.0              3 + 1  112 m2        2. Kat  Sıfır Bina    5 Katlı   \n",
       "3   895000.0              2 + 1  104 m2    Bahçe Katı   5 Yaşında    4 Katlı   \n",
       "4  3250000.0              3 + 1  170 m2        2. Kat  Sıfır Bina    4 Katlı   \n",
       "\n",
       "    Eşya Durumu  Banyo Sayısı        İlçe        Mahalle  \n",
       "0  Eşyalı Değil           1.0     Maltepe      Altıntepe  \n",
       "1  Eşyalı Değil           1.0      Kartal      Orhantepe  \n",
       "2  Eşyalı Değil           1.0    Esenyurt          Çınar  \n",
       "3  Eşyalı Değil           1.0    Esenyurt      Yeşilkent  \n",
       "4  Eşyalı Değil           2.0  Beylikdüzü  Adnan Kahveci  "
      ]
     },
     "execution_count": 6,
     "metadata": {},
     "output_type": "execute_result"
    }
   ],
   "source": [
    "df[\"Fiyat\"]= df[\"Fiyat\"].str.replace(\"TL\", \"\")\n",
    "df[\"Fiyat\"]= df[\"Fiyat\"].str.replace(\".\", \"\")\n",
    "df[\"Fiyat\"]= df[\"Fiyat\"].str.strip()\n",
    "df[\"Fiyat\"]= df[\"Fiyat\"].astype(float)\n",
    "\n",
    "df.head()"
   ]
  },
  {
   "cell_type": "markdown",
   "id": "15d3a8fb-8c84-444a-a587-45f047d31cdb",
   "metadata": {},
   "source": [
    "#### Cleaning the number of rooms\n",
    "Finding all unique values for the number of rooms and living rooms. Finding the value count for each unique value. If the value count for a value is below 5, delete the entire row."
   ]
  },
  {
   "cell_type": "code",
   "execution_count": 7,
   "id": "495a37e8-56e2-435b-813c-530d8d8c7bdf",
   "metadata": {},
   "outputs": [
    {
     "name": "stdout",
     "output_type": "stream",
     "text": [
      "Before cleaning the outliers: ['2 + 1' '1 + 1' '3 + 1' '4 + 1' '3 + 2' '5 + 2' '6 + 2' '5 + 1' '1 + 4'\n",
      " '6 + 1' '2 + 0' '8 + 2' '4 + 2' '1 + 0' '3 + 0' '2 + 2' '160 + 120'\n",
      " '5 + 0' '7 + 1' '4 + 4' '31 + 12' '11 + 1' '3 + 8' '2 + 13' '5 + 3'\n",
      " '2 + 3' '4 + 0' '3 + 3' '1 + 2' '9 + 1' '312 + 1' '25 + 12' '7 + 2'\n",
      " '3 + 133' '7 + 3' '10 + 0' '2 + 5' '8 + 1' '3 + 11' '1 + 11' '6 + 3'\n",
      " '2 + 11' '14 + 4' '9 + 2' '6 + 4' '1 + 3' '4 + 3' '3 + 4' '10 + 4'\n",
      " '31 + 1' '2 + 4' '2 + 22' '80 + 70' '33 + 1' '2 + 12' '9 + 3']\n",
      "After cleaning the outliers: ['2 + 1' '1 + 1' '3 + 1' '4 + 1' '3 + 2' '5 + 2' '6 + 2' '5 + 1' '6 + 1'\n",
      " '2 + 0' '8 + 2' '4 + 2' '1 + 0' '3 + 0' '2 + 2' '7 + 1' '5 + 3' '4 + 0'\n",
      " '3 + 3' '1 + 2' '7 + 2' '6 + 3']\n"
     ]
    }
   ],
   "source": [
    "print(f\"Before cleaning the outliers: {df[\"Oda + Salon Sayısı\"].unique()}\")\n",
    "value_counts = df['Oda + Salon Sayısı'].value_counts()\n",
    "room_outliers = value_counts[value_counts < 5].index\n",
    "df = df[~df[\"Oda + Salon Sayısı\"].isin(room_outliers)]\n",
    "print(f\"After cleaning the outliers: {df[\"Oda + Salon Sayısı\"].unique()}\")"
   ]
  },
  {
   "cell_type": "markdown",
   "id": "d44e8ca5-11c9-4b20-80ad-9ab9fffdac33",
   "metadata": {},
   "source": [
    "### Separating the column into two as room number and living room number\n",
    "Split the Oda + Salon Sayısı values with a regular expression. Assign first part to a new column called Oda and the second part into a new column called Salon."
   ]
  },
  {
   "cell_type": "code",
   "execution_count": 8,
   "id": "f1be4a9b-a2ba-47f0-8a11-3ea1263ca32c",
   "metadata": {},
   "outputs": [
    {
     "data": {
      "text/html": [
       "<div>\n",
       "<style scoped>\n",
       "    .dataframe tbody tr th:only-of-type {\n",
       "        vertical-align: middle;\n",
       "    }\n",
       "\n",
       "    .dataframe tbody tr th {\n",
       "        vertical-align: top;\n",
       "    }\n",
       "\n",
       "    .dataframe thead th {\n",
       "        text-align: right;\n",
       "    }\n",
       "</style>\n",
       "<table border=\"1\" class=\"dataframe\">\n",
       "  <thead>\n",
       "    <tr style=\"text-align: right;\">\n",
       "      <th></th>\n",
       "      <th>Fiyat</th>\n",
       "      <th>Brüt M2</th>\n",
       "      <th>Bulunduğu Kat</th>\n",
       "      <th>Bina Yaşı</th>\n",
       "      <th>Kat Sayısı</th>\n",
       "      <th>Eşya Durumu</th>\n",
       "      <th>Banyo Sayısı</th>\n",
       "      <th>İlçe</th>\n",
       "      <th>Mahalle</th>\n",
       "      <th>Oda</th>\n",
       "      <th>Salon</th>\n",
       "    </tr>\n",
       "  </thead>\n",
       "  <tbody>\n",
       "    <tr>\n",
       "      <th>0</th>\n",
       "      <td>5390000.0</td>\n",
       "      <td>85 m2</td>\n",
       "      <td>Bahçe Katı</td>\n",
       "      <td>5 Yaşında</td>\n",
       "      <td>4 Katlı</td>\n",
       "      <td>Eşyalı Değil</td>\n",
       "      <td>1.0</td>\n",
       "      <td>Maltepe</td>\n",
       "      <td>Altıntepe</td>\n",
       "      <td>2</td>\n",
       "      <td>1</td>\n",
       "    </tr>\n",
       "    <tr>\n",
       "      <th>1</th>\n",
       "      <td>5690000.0</td>\n",
       "      <td>65 m2</td>\n",
       "      <td>3. Kat</td>\n",
       "      <td>4 Yaşında</td>\n",
       "      <td>26 Katlı</td>\n",
       "      <td>Eşyalı Değil</td>\n",
       "      <td>1.0</td>\n",
       "      <td>Kartal</td>\n",
       "      <td>Orhantepe</td>\n",
       "      <td>1</td>\n",
       "      <td>1</td>\n",
       "    </tr>\n",
       "    <tr>\n",
       "      <th>2</th>\n",
       "      <td>1850000.0</td>\n",
       "      <td>112 m2</td>\n",
       "      <td>2. Kat</td>\n",
       "      <td>Sıfır Bina</td>\n",
       "      <td>5 Katlı</td>\n",
       "      <td>Eşyalı Değil</td>\n",
       "      <td>1.0</td>\n",
       "      <td>Esenyurt</td>\n",
       "      <td>Çınar</td>\n",
       "      <td>3</td>\n",
       "      <td>1</td>\n",
       "    </tr>\n",
       "    <tr>\n",
       "      <th>3</th>\n",
       "      <td>895000.0</td>\n",
       "      <td>104 m2</td>\n",
       "      <td>Bahçe Katı</td>\n",
       "      <td>5 Yaşında</td>\n",
       "      <td>4 Katlı</td>\n",
       "      <td>Eşyalı Değil</td>\n",
       "      <td>1.0</td>\n",
       "      <td>Esenyurt</td>\n",
       "      <td>Yeşilkent</td>\n",
       "      <td>2</td>\n",
       "      <td>1</td>\n",
       "    </tr>\n",
       "    <tr>\n",
       "      <th>4</th>\n",
       "      <td>3250000.0</td>\n",
       "      <td>170 m2</td>\n",
       "      <td>2. Kat</td>\n",
       "      <td>Sıfır Bina</td>\n",
       "      <td>4 Katlı</td>\n",
       "      <td>Eşyalı Değil</td>\n",
       "      <td>2.0</td>\n",
       "      <td>Beylikdüzü</td>\n",
       "      <td>Adnan Kahveci</td>\n",
       "      <td>3</td>\n",
       "      <td>1</td>\n",
       "    </tr>\n",
       "  </tbody>\n",
       "</table>\n",
       "</div>"
      ],
      "text/plain": [
       "       Fiyat Brüt M2 Bulunduğu Kat   Bina Yaşı Kat Sayısı   Eşya Durumu  \\\n",
       "0  5390000.0   85 m2    Bahçe Katı   5 Yaşında    4 Katlı  Eşyalı Değil   \n",
       "1  5690000.0   65 m2        3. Kat   4 Yaşında   26 Katlı  Eşyalı Değil   \n",
       "2  1850000.0  112 m2        2. Kat  Sıfır Bina    5 Katlı  Eşyalı Değil   \n",
       "3   895000.0  104 m2    Bahçe Katı   5 Yaşında    4 Katlı  Eşyalı Değil   \n",
       "4  3250000.0  170 m2        2. Kat  Sıfır Bina    4 Katlı  Eşyalı Değil   \n",
       "\n",
       "   Banyo Sayısı        İlçe        Mahalle  Oda  Salon  \n",
       "0           1.0     Maltepe      Altıntepe    2      1  \n",
       "1           1.0      Kartal      Orhantepe    1      1  \n",
       "2           1.0    Esenyurt          Çınar    3      1  \n",
       "3           1.0    Esenyurt      Yeşilkent    2      1  \n",
       "4           2.0  Beylikdüzü  Adnan Kahveci    3      1  "
      ]
     },
     "execution_count": 8,
     "metadata": {},
     "output_type": "execute_result"
    }
   ],
   "source": [
    "df[['Oda', 'Salon']] = df['Oda + Salon Sayısı'].str.split(r'\\s*\\+\\s*', expand=True).astype(int)\n",
    "df = df.drop(columns ='Oda + Salon Sayısı')\n",
    "df.head()"
   ]
  },
  {
   "cell_type": "markdown",
   "id": "46f6193a-e5d7-47a1-8dc5-3780c3b7ae06",
   "metadata": {},
   "source": [
    "#### Cleaning the square meter column\n",
    "Delete the strings and empty spaces. Turn the values into floats."
   ]
  },
  {
   "cell_type": "code",
   "execution_count": 9,
   "id": "44a17b92-2562-4ab5-a3be-ce8094eac3d6",
   "metadata": {},
   "outputs": [
    {
     "name": "stdout",
     "output_type": "stream",
     "text": [
      "<class 'str'>\n"
     ]
    },
    {
     "data": {
      "text/html": [
       "<div>\n",
       "<style scoped>\n",
       "    .dataframe tbody tr th:only-of-type {\n",
       "        vertical-align: middle;\n",
       "    }\n",
       "\n",
       "    .dataframe tbody tr th {\n",
       "        vertical-align: top;\n",
       "    }\n",
       "\n",
       "    .dataframe thead th {\n",
       "        text-align: right;\n",
       "    }\n",
       "</style>\n",
       "<table border=\"1\" class=\"dataframe\">\n",
       "  <thead>\n",
       "    <tr style=\"text-align: right;\">\n",
       "      <th></th>\n",
       "      <th>Fiyat</th>\n",
       "      <th>Brüt M2</th>\n",
       "      <th>Bulunduğu Kat</th>\n",
       "      <th>Bina Yaşı</th>\n",
       "      <th>Kat Sayısı</th>\n",
       "      <th>Eşya Durumu</th>\n",
       "      <th>Banyo Sayısı</th>\n",
       "      <th>İlçe</th>\n",
       "      <th>Mahalle</th>\n",
       "      <th>Oda</th>\n",
       "      <th>Salon</th>\n",
       "    </tr>\n",
       "  </thead>\n",
       "  <tbody>\n",
       "    <tr>\n",
       "      <th>0</th>\n",
       "      <td>5390000.0</td>\n",
       "      <td>85 m2</td>\n",
       "      <td>Bahçe Katı</td>\n",
       "      <td>5 Yaşında</td>\n",
       "      <td>4 Katlı</td>\n",
       "      <td>Eşyalı Değil</td>\n",
       "      <td>1.0</td>\n",
       "      <td>Maltepe</td>\n",
       "      <td>Altıntepe</td>\n",
       "      <td>2</td>\n",
       "      <td>1</td>\n",
       "    </tr>\n",
       "    <tr>\n",
       "      <th>1</th>\n",
       "      <td>5690000.0</td>\n",
       "      <td>65 m2</td>\n",
       "      <td>3. Kat</td>\n",
       "      <td>4 Yaşında</td>\n",
       "      <td>26 Katlı</td>\n",
       "      <td>Eşyalı Değil</td>\n",
       "      <td>1.0</td>\n",
       "      <td>Kartal</td>\n",
       "      <td>Orhantepe</td>\n",
       "      <td>1</td>\n",
       "      <td>1</td>\n",
       "    </tr>\n",
       "    <tr>\n",
       "      <th>2</th>\n",
       "      <td>1850000.0</td>\n",
       "      <td>112 m2</td>\n",
       "      <td>2. Kat</td>\n",
       "      <td>Sıfır Bina</td>\n",
       "      <td>5 Katlı</td>\n",
       "      <td>Eşyalı Değil</td>\n",
       "      <td>1.0</td>\n",
       "      <td>Esenyurt</td>\n",
       "      <td>Çınar</td>\n",
       "      <td>3</td>\n",
       "      <td>1</td>\n",
       "    </tr>\n",
       "    <tr>\n",
       "      <th>3</th>\n",
       "      <td>895000.0</td>\n",
       "      <td>104 m2</td>\n",
       "      <td>Bahçe Katı</td>\n",
       "      <td>5 Yaşında</td>\n",
       "      <td>4 Katlı</td>\n",
       "      <td>Eşyalı Değil</td>\n",
       "      <td>1.0</td>\n",
       "      <td>Esenyurt</td>\n",
       "      <td>Yeşilkent</td>\n",
       "      <td>2</td>\n",
       "      <td>1</td>\n",
       "    </tr>\n",
       "    <tr>\n",
       "      <th>4</th>\n",
       "      <td>3250000.0</td>\n",
       "      <td>170 m2</td>\n",
       "      <td>2. Kat</td>\n",
       "      <td>Sıfır Bina</td>\n",
       "      <td>4 Katlı</td>\n",
       "      <td>Eşyalı Değil</td>\n",
       "      <td>2.0</td>\n",
       "      <td>Beylikdüzü</td>\n",
       "      <td>Adnan Kahveci</td>\n",
       "      <td>3</td>\n",
       "      <td>1</td>\n",
       "    </tr>\n",
       "  </tbody>\n",
       "</table>\n",
       "</div>"
      ],
      "text/plain": [
       "       Fiyat Brüt M2 Bulunduğu Kat   Bina Yaşı Kat Sayısı   Eşya Durumu  \\\n",
       "0  5390000.0   85 m2    Bahçe Katı   5 Yaşında    4 Katlı  Eşyalı Değil   \n",
       "1  5690000.0   65 m2        3. Kat   4 Yaşında   26 Katlı  Eşyalı Değil   \n",
       "2  1850000.0  112 m2        2. Kat  Sıfır Bina    5 Katlı  Eşyalı Değil   \n",
       "3   895000.0  104 m2    Bahçe Katı   5 Yaşında    4 Katlı  Eşyalı Değil   \n",
       "4  3250000.0  170 m2        2. Kat  Sıfır Bina    4 Katlı  Eşyalı Değil   \n",
       "\n",
       "   Banyo Sayısı        İlçe        Mahalle  Oda  Salon  \n",
       "0           1.0     Maltepe      Altıntepe    2      1  \n",
       "1           1.0      Kartal      Orhantepe    1      1  \n",
       "2           1.0    Esenyurt          Çınar    3      1  \n",
       "3           1.0    Esenyurt      Yeşilkent    2      1  \n",
       "4           2.0  Beylikdüzü  Adnan Kahveci    3      1  "
      ]
     },
     "execution_count": 9,
     "metadata": {},
     "output_type": "execute_result"
    }
   ],
   "source": [
    "value = df[\"Brüt M2\"][0]\n",
    "print(type(value))\n",
    "df.head()"
   ]
  },
  {
   "cell_type": "code",
   "execution_count": 10,
   "id": "fd937cae-9558-4d14-9967-811c6e9f97b5",
   "metadata": {},
   "outputs": [
    {
     "name": "stdout",
     "output_type": "stream",
     "text": [
      "[  1.      1.055   1.11    1.2     9.     15.     20.     21.     25.\n",
      "  28.     29.     30.     33.     35.     37.     38.     39.     40.\n",
      "  41.     42.     43.     44.     45.     47.     48.     49.     50.\n",
      "  51.     52.     53.     54.     55.     56.     57.     58.     59.\n",
      "  60.     61.     62.     63.     64.     65.     66.     67.     68.\n",
      "  69.     70.     71.     72.     73.     74.     75.     76.     77.\n",
      "  78.     79.     80.     81.     82.     83.     84.     85.     86.\n",
      "  87.     88.     89.     90.     91.     92.     93.     94.     95.\n",
      "  96.     97.     98.     99.    100.    101.    102.    103.    104.\n",
      " 105.    106.    107.    108.    109.    110.    111.    112.    113.\n",
      " 114.    115.    116.    117.    118.    119.    120.    121.    122.\n",
      " 123.    124.    125.    126.    127.    128.    129.    130.    131.\n",
      " 132.    133.    134.    135.    136.    137.    138.    139.    140.\n",
      " 141.    142.    143.    144.    145.    146.    147.    148.    149.\n",
      " 150.    150.12  151.    152.    153.    154.    155.    156.    157.\n",
      " 158.    159.    160.    161.    162.    163.    164.    165.    166.\n",
      " 167.    168.    169.    170.    171.    172.    173.    174.    175.\n",
      " 176.    177.    178.    179.    180.    181.    182.    183.    184.\n",
      " 185.    186.    187.    188.    189.    190.    191.    192.    193.\n",
      " 194.    195.    196.    197.    198.    200.    201.    202.    203.\n",
      " 204.    205.    206.    207.    208.    209.    210.    211.    212.\n",
      " 213.    214.    215.    216.    217.    218.    219.    220.    221.\n",
      " 222.    223.    224.    225.    226.    227.    228.    229.    230.\n",
      " 231.    232.    233.    234.    235.    236.    237.    238.    239.\n",
      " 240.    241.    242.    243.    244.    245.    246.    247.    248.\n",
      " 250.    252.    253.    255.    257.    258.    260.    261.    262.\n",
      " 263.    265.    266.    267.    269.    270.    271.    272.    273.\n",
      " 274.    275.    276.    280.    281.    282.    285.    286.    287.\n",
      " 288.    289.    290.    291.    292.    294.    295.    298.    299.\n",
      " 300.    304.    305.    308.    309.    310.    311.    314.    315.\n",
      " 317.    318.    320.    322.    323.    324.    325.    326.    327.\n",
      " 330.    331.    332.    334.    340.    342.    346.    350.    355.\n",
      " 360.    362.    363.    365.    366.    368.    370.    374.    375.\n",
      " 377.    380.    384.    387.    389.    390.    394.    396.    400.\n",
      " 404.    407.    410.    420.    425.    430.    434.    435.    439.\n",
      " 440.    450.    452.    460.    462.    465.    470.    478.    480.\n",
      " 485.    490.    500.    508.    515.    525.    537.    550.    580.\n",
      " 600.    610.    650.    810.    853.    885.    954.   ]\n"
     ]
    }
   ],
   "source": [
    "df[\"Brüt M2\"] = df[\"Brüt M2\"].str.replace(\" m2\", \"\")\n",
    "df[\"Brüt M2\"] = df[\"Brüt M2\"].str.strip()\n",
    "df[\"Brüt M2\"] = df[\"Brüt M2\"].astype(float)\n",
    "unique_sorted_values = np.sort(df[\"Brüt M2\"].unique())\n",
    "print(unique_sorted_values)"
   ]
  },
  {
   "cell_type": "markdown",
   "id": "836fbbe2-76ee-4029-a7ed-8f1c142a1944",
   "metadata": {},
   "source": [
    "#### Turn the building ages into numeric values\n",
    "When we print all values for the age of the building, we see that they either say \"Sıfır Bina\" or \"__ Yaşında\".\n",
    "If the value is Sıfır Bina, we change it to 0. In all other cases, we remove the \" Yaşında\" and keep the integer value. We print the renewed values sorted to see any outlier cases."
   ]
  },
  {
   "cell_type": "code",
   "execution_count": 11,
   "id": "1f8b8441-07ca-4161-90b7-3c76a9632ba6",
   "metadata": {},
   "outputs": [
    {
     "name": "stdout",
     "output_type": "stream",
     "text": [
      "Ages before cleaning: ['5 Yaşında' '4 Yaşında' 'Sıfır Bina' '1 Yaşında' '8 Yaşında' '2 Yaşında'\n",
      " '7 Yaşında' '10 Yaşında' '3 Yaşında' '6 Yaşında' '30 Yaşında'\n",
      " '26 Yaşında' '11 Yaşında' '35 Yaşında' '23 Yaşında' '21 Yaşında'\n",
      " '13 Yaşında' '55 Yaşında' '24 Yaşında' '15 Yaşında' '20 Yaşında'\n",
      " '29 Yaşında' '31 Yaşında' '16 Yaşında' '45 Yaşında' '25 Yaşında'\n",
      " '28 Yaşında' '18 Yaşında' '17 Yaşında' '27 Yaşında' '36 Yaşında'\n",
      " '40 Yaşında' '80 Yaşında' '49 Yaşında' '14 Yaşında' '34 Yaşında'\n",
      " '340 Yaşında' '33 Yaşında' '12 Yaşında' '50 Yaşında' '38 Yaşında'\n",
      " '9 Yaşında' '32 Yaşında' '19 Yaşında' '44 Yaşında' '37 Yaşında'\n",
      " '22 Yaşında' '100 Yaşında' '42 Yaşında' '59 Yaşında' '60 Yaşında'\n",
      " '70 Yaşında' '48 Yaşında' '54 Yaşında' '65 Yaşında' '52 Yaşında'\n",
      " '39 Yaşında' '51 Yaşında' '53 Yaşında' '47 Yaşında' '68 Yaşında'\n",
      " '56 Yaşında' '43 Yaşında' '46 Yaşında' '223 Yaşında' '141 Yaşında'\n",
      " '110 Yaşında' '330 Yaşında' '64 Yaşında' '75 Yaşında' '41 Yaşında'\n",
      " '123 Yaşında' '200 Yaşında' '89 Yaşında' '247 Yaşında' '90 Yaşında'\n",
      " '120 Yaşında' '225 Yaşında' '78 Yaşında' '91 Yaşında' '85 Yaşında'\n",
      " '58 Yaşında' '197 Yaşında' '95 Yaşında' '57 Yaşında' '105 Yaşında'\n",
      " '96 Yaşında' '124 Yaşında' '132 Yaşında' '652 Yaşında' '119 Yaşında'\n",
      " '67 Yaşında']\n",
      "Sorted ages after cleaning: [0 1 2 3 4 5 6 7 8 9 10 11 12 13 14 15 16 17 18 19 20 21 22 23 24 25 26 27\n",
      " 28 29 30 31 32 33 34 35 36 37 38 39 40 41 42 43 44 45 46 47 48 49 50 51\n",
      " 52 53 54 55 56 57 58 59 60 64 65 67 68 70 75 78 80 85 89 90 91 95 96 100\n",
      " 105 110 119 120 123 124 132 141 197 200 223 225 247 330 340 652]\n"
     ]
    }
   ],
   "source": [
    "print(f\"Ages before cleaning: {df['Bina Yaşı'].unique()}\")\n",
    "df.loc[df[\"Bina Yaşı\"] == \"Sıfır Bina\", \"Bina Yaşı\"] = 0\n",
    "df.loc[df[\"Bina Yaşı\"] != 0, \"Bina Yaşı\"] = df.loc[df[\"Bina Yaşı\"] != 0, \"Bina Yaşı\"].str.replace(\" Yaşında\", \"\").astype(int)\n",
    "building_ages = df[\"Bina Yaşı\"].unique()\n",
    "print(f\"Sorted ages after cleaning: {np.sort(building_ages)}\")"
   ]
  },
  {
   "cell_type": "markdown",
   "id": "d44de06b-46c1-415f-a81b-1160179d3e52",
   "metadata": {},
   "source": [
    "#### District check\n",
    "Check that the names of districts are correct and that each district represented in the data."
   ]
  },
  {
   "cell_type": "code",
   "execution_count": 12,
   "id": "d18f7aa0-6eb6-44e6-a2ed-41ed830c557a",
   "metadata": {},
   "outputs": [
    {
     "name": "stdout",
     "output_type": "stream",
     "text": [
      "['Maltepe' 'Kartal' 'Esenyurt' 'Beylikdüzü' 'Kadıköy' 'Şişli' 'Başakşehir'\n",
      " 'Arnavutköy' 'Bayrampaşa' 'Gaziosmanpaşa' 'Bahçelievler' 'Fatih' 'Beykoz'\n",
      " 'Beşiktaş' 'Adalar' 'Tuzla' 'Üsküdar' 'Avcılar' 'Küçükçekmece'\n",
      " 'Eyüpsultan' 'Zeytinburnu' 'Sultangazi' 'Çekmeköy' 'Sarıyer' 'Sancaktepe'\n",
      " 'Bakırköy' 'Ataşehir' 'Silivri' 'Pendik' 'Çatalca' 'Güngören' 'Kağıthane'\n",
      " 'Beyoğlu' 'Sultanbeyli' 'Ümraniye' 'Bağcılar' 'Büyükçekmece' 'Esenler'\n",
      " 'Şile']\n",
      "39\n"
     ]
    }
   ],
   "source": [
    "print(df[\"İlçe\"].unique())\n",
    "print(df[\"İlçe\"].nunique())"
   ]
  },
  {
   "cell_type": "markdown",
   "id": "198ac260-f56b-46c8-8c78-dc0221e1c49d",
   "metadata": {},
   "source": [
    "#### Cleaning the column for number of floors (in the building)\n"
   ]
  },
  {
   "cell_type": "code",
   "execution_count": 13,
   "id": "4086d208-c8ae-4724-9393-e8d52e0ef7ec",
   "metadata": {},
   "outputs": [
    {
     "name": "stdout",
     "output_type": "stream",
     "text": [
      "[  4  26   5  10   3  19   6  18   9   7  12  15   8   2  17  13  11  30\n",
      "  20  14   1  37  50  24  45  21  27  33  22  35  16  31  25  28  40  23\n",
      " 520  36  29  46  34  42  32  -1  39  38  48  60 318  43 620  44 119  47\n",
      "  52  64  62  51 253  55 221  54]\n"
     ]
    }
   ],
   "source": [
    "number_floor = df['Kat Sayısı'].str.replace(' Katlı', '', regex=False).str.strip()\n",
    "number_floor = pd.to_numeric(number_floor, errors='coerce').fillna(-1)\n",
    "df['Kat Sayısı'] = number_floor.astype(int)\n",
    "\n",
    "print(df[\"Kat Sayısı\"].unique())"
   ]
  },
  {
   "cell_type": "markdown",
   "id": "09210eb2-cbe1-4d7f-bc3c-9a231be95844",
   "metadata": {},
   "source": [
    "Turn number of bathrooms from floats to integer values."
   ]
  },
  {
   "cell_type": "code",
   "execution_count": 14,
   "id": "3f822cc2-740b-4349-a761-ea3d3fe3aabc",
   "metadata": {},
   "outputs": [
    {
     "name": "stdout",
     "output_type": "stream",
     "text": [
      "[ 1  2  3  4  6 -1  5  7 11 15 33]\n"
     ]
    }
   ],
   "source": [
    "df[\"Banyo Sayısı\"] = pd.to_numeric(df[\"Banyo Sayısı\"], errors='coerce').fillna(-1).astype(int)\n",
    "print(df[\"Banyo Sayısı\"].unique())"
   ]
  },
  {
   "cell_type": "code",
   "execution_count": 15,
   "id": "dcde1d84-6dbf-4172-9d1d-d1f69eca5b1c",
   "metadata": {},
   "outputs": [
    {
     "name": "stdout",
     "output_type": "stream",
     "text": [
      "['Eşyalı Değil' 'Eşyalı' None]\n",
      "1689\n",
      "[False  True]\n"
     ]
    }
   ],
   "source": [
    "print(df['Eşya Durumu'].unique())\n",
    "none_count = df[\"Eşya Durumu\"].isna().sum()\n",
    "print(none_count)\n",
    "df['Eşya Durumu'] = np.where(df['Eşya Durumu'] == \"Eşyalı\", True, False)\n",
    "print(df['Eşya Durumu'].unique())"
   ]
  },
  {
   "cell_type": "code",
   "execution_count": 16,
   "id": "b36c10f0-90a2-4773-a77a-8f2127f4b4e5",
   "metadata": {},
   "outputs": [
    {
     "name": "stdout",
     "output_type": "stream",
     "text": [
      "['Bahçe Katı' '3. Kat' '2. Kat' 'Giriş Katı' '6. Kat' '7. Kat' '8. Kat'\n",
      " 'Ara Kat' 'Teras Katı' '1. Kat' '4. Kat' 'Villa Katı' '12. Kat'\n",
      " 'Yüksek Giriş' '5. Kat' '10. Kat' 'En Üst Kat' '11. Kat' '21 ve üzeri'\n",
      " '9. Kat' 'Kot 2' '19. Kat' '13. Kat' 'Yarı Bodrum' 'Çatı Katı' '16. Kat'\n",
      " 'Zemin' '14. Kat' 'Kot 1' 'Bodrum ve Zemin' 'Bodrum' '15. Kat' '20. Kat'\n",
      " 'Kot 3' '18. Kat' '17. Kat' None]\n"
     ]
    }
   ],
   "source": [
    "print(df['Bulunduğu Kat'].unique())"
   ]
  },
  {
   "cell_type": "code",
   "execution_count": 17,
   "id": "413a448d-0948-4e8b-8432-b937bdaf1db0",
   "metadata": {},
   "outputs": [
    {
     "data": {
      "text/html": [
       "<div>\n",
       "<style scoped>\n",
       "    .dataframe tbody tr th:only-of-type {\n",
       "        vertical-align: middle;\n",
       "    }\n",
       "\n",
       "    .dataframe tbody tr th {\n",
       "        vertical-align: top;\n",
       "    }\n",
       "\n",
       "    .dataframe thead th {\n",
       "        text-align: right;\n",
       "    }\n",
       "</style>\n",
       "<table border=\"1\" class=\"dataframe\">\n",
       "  <thead>\n",
       "    <tr style=\"text-align: right;\">\n",
       "      <th></th>\n",
       "      <th>Fiyat</th>\n",
       "      <th>Brüt M2</th>\n",
       "      <th>Bulunduğu Kat</th>\n",
       "      <th>Bina Yaşı</th>\n",
       "      <th>Kat Sayısı</th>\n",
       "      <th>Eşya Durumu</th>\n",
       "      <th>Banyo Sayısı</th>\n",
       "      <th>İlçe</th>\n",
       "      <th>Mahalle</th>\n",
       "      <th>Oda</th>\n",
       "      <th>Salon</th>\n",
       "    </tr>\n",
       "  </thead>\n",
       "  <tbody>\n",
       "    <tr>\n",
       "      <th>0</th>\n",
       "      <td>5390000.0</td>\n",
       "      <td>85.0</td>\n",
       "      <td>Bahçe Katı</td>\n",
       "      <td>5</td>\n",
       "      <td>4</td>\n",
       "      <td>False</td>\n",
       "      <td>1</td>\n",
       "      <td>Maltepe</td>\n",
       "      <td>Altıntepe</td>\n",
       "      <td>2</td>\n",
       "      <td>1</td>\n",
       "    </tr>\n",
       "    <tr>\n",
       "      <th>1</th>\n",
       "      <td>5690000.0</td>\n",
       "      <td>65.0</td>\n",
       "      <td>3. Kat</td>\n",
       "      <td>4</td>\n",
       "      <td>26</td>\n",
       "      <td>False</td>\n",
       "      <td>1</td>\n",
       "      <td>Kartal</td>\n",
       "      <td>Orhantepe</td>\n",
       "      <td>1</td>\n",
       "      <td>1</td>\n",
       "    </tr>\n",
       "    <tr>\n",
       "      <th>2</th>\n",
       "      <td>1850000.0</td>\n",
       "      <td>112.0</td>\n",
       "      <td>2. Kat</td>\n",
       "      <td>0</td>\n",
       "      <td>5</td>\n",
       "      <td>False</td>\n",
       "      <td>1</td>\n",
       "      <td>Esenyurt</td>\n",
       "      <td>Çınar</td>\n",
       "      <td>3</td>\n",
       "      <td>1</td>\n",
       "    </tr>\n",
       "    <tr>\n",
       "      <th>3</th>\n",
       "      <td>895000.0</td>\n",
       "      <td>104.0</td>\n",
       "      <td>Bahçe Katı</td>\n",
       "      <td>5</td>\n",
       "      <td>4</td>\n",
       "      <td>False</td>\n",
       "      <td>1</td>\n",
       "      <td>Esenyurt</td>\n",
       "      <td>Yeşilkent</td>\n",
       "      <td>2</td>\n",
       "      <td>1</td>\n",
       "    </tr>\n",
       "    <tr>\n",
       "      <th>4</th>\n",
       "      <td>3250000.0</td>\n",
       "      <td>170.0</td>\n",
       "      <td>2. Kat</td>\n",
       "      <td>0</td>\n",
       "      <td>4</td>\n",
       "      <td>False</td>\n",
       "      <td>2</td>\n",
       "      <td>Beylikdüzü</td>\n",
       "      <td>Adnan Kahveci</td>\n",
       "      <td>3</td>\n",
       "      <td>1</td>\n",
       "    </tr>\n",
       "  </tbody>\n",
       "</table>\n",
       "</div>"
      ],
      "text/plain": [
       "       Fiyat  Brüt M2 Bulunduğu Kat Bina Yaşı  Kat Sayısı  Eşya Durumu  \\\n",
       "0  5390000.0     85.0    Bahçe Katı         5           4        False   \n",
       "1  5690000.0     65.0        3. Kat         4          26        False   \n",
       "2  1850000.0    112.0        2. Kat         0           5        False   \n",
       "3   895000.0    104.0    Bahçe Katı         5           4        False   \n",
       "4  3250000.0    170.0        2. Kat         0           4        False   \n",
       "\n",
       "   Banyo Sayısı        İlçe        Mahalle  Oda  Salon  \n",
       "0             1     Maltepe      Altıntepe    2      1  \n",
       "1             1      Kartal      Orhantepe    1      1  \n",
       "2             1    Esenyurt          Çınar    3      1  \n",
       "3             1    Esenyurt      Yeşilkent    2      1  \n",
       "4             2  Beylikdüzü  Adnan Kahveci    3      1  "
      ]
     },
     "execution_count": 17,
     "metadata": {},
     "output_type": "execute_result"
    }
   ],
   "source": [
    "df.head()"
   ]
  },
  {
   "cell_type": "markdown",
   "id": "fc54d607-6046-4747-9d20-5227f4befa4c",
   "metadata": {},
   "source": [
    "## Plotting the data and managing the outliers\n",
    "Find the range for the price."
   ]
  },
  {
   "cell_type": "code",
   "execution_count": 18,
   "id": "d32ffb4b-f43c-445f-8a96-d0d634e37206",
   "metadata": {},
   "outputs": [
    {
     "name": "stdout",
     "output_type": "stream",
     "text": [
      "1.0\n",
      "4950000000.0\n"
     ]
    }
   ],
   "source": [
    "min_price = df[\"Fiyat\"].min()\n",
    "max_price = df[\"Fiyat\"].max()\n",
    "print(min_price)\n",
    "print(max_price)\n",
    "\n",
    "sorted_prices = df['Fiyat'].sort_values()\n",
    "sorted_prices.to_csv('sorted_prices.csv', index=False)"
   ]
  },
  {
   "cell_type": "markdown",
   "id": "4c74c192-2979-4110-b47b-6a573a23a988",
   "metadata": {},
   "source": [
    "Plot the price with outliers."
   ]
  },
  {
   "cell_type": "code",
   "execution_count": 19,
   "id": "f5152dd2-8d3f-4973-8271-ba8b6910cdea",
   "metadata": {},
   "outputs": [
    {
     "data": {
      "image/png": "[encoded data removed]",
      "text/plain": [
       "<Figure size 1000x600 with 1 Axes>"
      ]
     },
     "metadata": {},
     "output_type": "display_data"
    }
   ],
   "source": [
    "plt.figure(figsize=(10, 6))\n",
    "sns.boxplot(data=df, x='Fiyat')\n",
    "plt.title('Box Plot of Price (With Outliers)')\n",
    "plt.show()"
   ]
  },
  {
   "cell_type": "markdown",
   "id": "669c81c6-66f9-493d-99f9-efb78d9b89d9",
   "metadata": {},
   "source": [
    "Find the interquartile range and remove the outliers outside of the range.\n",
    "Keep the updated price information in a separate variable.\n",
    "The regular interquartile range did not work on the prices. There are prices which are too low and the highest price is not high enough."
   ]
  },
  {
   "cell_type": "code",
   "execution_count": 20,
   "id": "a071c568-7821-4f24-9899-b988bc562930",
   "metadata": {
    "scrolled": true
   },
   "outputs": [
    {
     "name": "stdout",
     "output_type": "stream",
     "text": [
      "15421           1.0\n",
      "10670        1250.0\n",
      "18344        1500.0\n",
      "16074        1500.0\n",
      "23596        2250.0\n",
      "            ...    \n",
      "8101     21500000.0\n",
      "8100     21500000.0\n",
      "13623    21500000.0\n",
      "15269    21500000.0\n",
      "10577    21500000.0\n",
      "Name: Fiyat, Length: 21892, dtype: float64\n"
     ]
    }
   ],
   "source": [
    "Q1 = df['Fiyat'].quantile(0.25)\n",
    "Q3 = df['Fiyat'].quantile(0.75)\n",
    "IQR = Q3 - Q1\n",
    "lower_bound = Q1 - 1.5 * IQR\n",
    "upper_bound = Q3 + 1.5 * IQR\n",
    "\n",
    "filtered_data_iqr = df[(df['Fiyat'] >= lower_bound) & (df['Fiyat'] <= upper_bound)]\n",
    "\n",
    "print(filtered_data_iqr[\"Fiyat\"].sort_values())"
   ]
  },
  {
   "cell_type": "code",
   "execution_count": 21,
   "id": "86bfc429-796e-4f7c-9215-37cf5111ffbc",
   "metadata": {},
   "outputs": [
    {
     "name": "stdout",
     "output_type": "stream",
     "text": [
      "Filtered data range: 320000.0 - 200000000.0\n",
      "Mean:9249279 Median: 5450000 Std: 11826099\n"
     ]
    }
   ],
   "source": [
    "min_price_threshold = 300000 \n",
    "max_price_threshold = 200000000  \n",
    "\n",
    "filtered_data = df[(df['Fiyat'] >= min_price_threshold) & (df['Fiyat'] <= max_price_threshold)]\n",
    "\n",
    "print(f\"Filtered data range: {filtered_data['Fiyat'].min()} - {filtered_data['Fiyat'].max()}\")\n",
    "\n",
    "mean_price = filtered_data[\"Fiyat\"].mean()\n",
    "median_price = filtered_data[\"Fiyat\"].median()\n",
    "std_price = filtered_data[\"Fiyat\"].std()\n",
    "\n",
    "print(f\"Mean:{mean_price.astype(int)} Median: {median_price.astype(int)} Std: {std_price.astype(int)}\")"
   ]
  },
  {
   "cell_type": "markdown",
   "id": "0038132f-0ea7-43ec-a115-1af72e188dd1",
   "metadata": {},
   "source": [
    "The IQR clean-up gets rid of the skewedness of the original data while the manual threshold method still keeps it. This is due to the fact that in İstanbul, it is less likely to find underpriced apartments and more common to find overpriced, luxury apartments."
   ]
  },
  {
   "cell_type": "code",
   "execution_count": 22,
   "id": "970c9b38-191e-4b0d-ad56-4d723d4eb417",
   "metadata": {},
   "outputs": [
    {
     "data": {
      "image/png": "[encoded data removed]",
      "text/plain": [
       "<Figure size 640x480 with 1 Axes>"
      ]
     },
     "metadata": {},
     "output_type": "display_data"
    },
    {
     "data": {
      "image/png": "[encoded data removed]",
      "text/plain": [
       "<Figure size 640x480 with 1 Axes>"
      ]
     },
     "metadata": {},
     "output_type": "display_data"
    }
   ],
   "source": [
    "sns.boxplot(data=filtered_data_iqr, x='Fiyat')\n",
    "plt.title('Box Plot for Price (IQR)')\n",
    "plt.show()\n",
    "\n",
    "sns.boxplot(data=filtered_data, x='Fiyat')\n",
    "plt.title('Box Plot for Price (Manual Threshold)')\n",
    "plt.show()"
   ]
  },
  {
   "cell_type": "code",
   "execution_count": 23,
   "id": "7d31b8ba-6a7d-483d-abd6-d49a3756896f",
   "metadata": {},
   "outputs": [
    {
     "data": {
      "text/html": [
       "<div>\n",
       "<style scoped>\n",
       "    .dataframe tbody tr th:only-of-type {\n",
       "        vertical-align: middle;\n",
       "    }\n",
       "\n",
       "    .dataframe tbody tr th {\n",
       "        vertical-align: top;\n",
       "    }\n",
       "\n",
       "    .dataframe thead th {\n",
       "        text-align: right;\n",
       "    }\n",
       "</style>\n",
       "<table border=\"1\" class=\"dataframe\">\n",
       "  <thead>\n",
       "    <tr style=\"text-align: right;\">\n",
       "      <th></th>\n",
       "      <th>Fiyat</th>\n",
       "      <th>Brüt M2</th>\n",
       "      <th>Bulunduğu Kat</th>\n",
       "      <th>Bina Yaşı</th>\n",
       "      <th>Kat Sayısı</th>\n",
       "      <th>Eşya Durumu</th>\n",
       "      <th>Banyo Sayısı</th>\n",
       "      <th>İlçe</th>\n",
       "      <th>Mahalle</th>\n",
       "      <th>Oda</th>\n",
       "      <th>Salon</th>\n",
       "    </tr>\n",
       "  </thead>\n",
       "  <tbody>\n",
       "    <tr>\n",
       "      <th>0</th>\n",
       "      <td>5390000.0</td>\n",
       "      <td>85.0</td>\n",
       "      <td>Bahçe Katı</td>\n",
       "      <td>5</td>\n",
       "      <td>4</td>\n",
       "      <td>False</td>\n",
       "      <td>1</td>\n",
       "      <td>Maltepe</td>\n",
       "      <td>Altıntepe</td>\n",
       "      <td>2</td>\n",
       "      <td>1</td>\n",
       "    </tr>\n",
       "    <tr>\n",
       "      <th>1</th>\n",
       "      <td>5690000.0</td>\n",
       "      <td>65.0</td>\n",
       "      <td>3. Kat</td>\n",
       "      <td>4</td>\n",
       "      <td>26</td>\n",
       "      <td>False</td>\n",
       "      <td>1</td>\n",
       "      <td>Kartal</td>\n",
       "      <td>Orhantepe</td>\n",
       "      <td>1</td>\n",
       "      <td>1</td>\n",
       "    </tr>\n",
       "    <tr>\n",
       "      <th>2</th>\n",
       "      <td>1850000.0</td>\n",
       "      <td>112.0</td>\n",
       "      <td>2. Kat</td>\n",
       "      <td>0</td>\n",
       "      <td>5</td>\n",
       "      <td>False</td>\n",
       "      <td>1</td>\n",
       "      <td>Esenyurt</td>\n",
       "      <td>Çınar</td>\n",
       "      <td>3</td>\n",
       "      <td>1</td>\n",
       "    </tr>\n",
       "    <tr>\n",
       "      <th>3</th>\n",
       "      <td>895000.0</td>\n",
       "      <td>104.0</td>\n",
       "      <td>Bahçe Katı</td>\n",
       "      <td>5</td>\n",
       "      <td>4</td>\n",
       "      <td>False</td>\n",
       "      <td>1</td>\n",
       "      <td>Esenyurt</td>\n",
       "      <td>Yeşilkent</td>\n",
       "      <td>2</td>\n",
       "      <td>1</td>\n",
       "    </tr>\n",
       "    <tr>\n",
       "      <th>4</th>\n",
       "      <td>3250000.0</td>\n",
       "      <td>170.0</td>\n",
       "      <td>2. Kat</td>\n",
       "      <td>0</td>\n",
       "      <td>4</td>\n",
       "      <td>False</td>\n",
       "      <td>2</td>\n",
       "      <td>Beylikdüzü</td>\n",
       "      <td>Adnan Kahveci</td>\n",
       "      <td>3</td>\n",
       "      <td>1</td>\n",
       "    </tr>\n",
       "  </tbody>\n",
       "</table>\n",
       "</div>"
      ],
      "text/plain": [
       "       Fiyat  Brüt M2 Bulunduğu Kat Bina Yaşı  Kat Sayısı  Eşya Durumu  \\\n",
       "0  5390000.0     85.0    Bahçe Katı         5           4        False   \n",
       "1  5690000.0     65.0        3. Kat         4          26        False   \n",
       "2  1850000.0    112.0        2. Kat         0           5        False   \n",
       "3   895000.0    104.0    Bahçe Katı         5           4        False   \n",
       "4  3250000.0    170.0        2. Kat         0           4        False   \n",
       "\n",
       "   Banyo Sayısı        İlçe        Mahalle  Oda  Salon  \n",
       "0             1     Maltepe      Altıntepe    2      1  \n",
       "1             1      Kartal      Orhantepe    1      1  \n",
       "2             1    Esenyurt          Çınar    3      1  \n",
       "3             1    Esenyurt      Yeşilkent    2      1  \n",
       "4             2  Beylikdüzü  Adnan Kahveci    3      1  "
      ]
     },
     "execution_count": 23,
     "metadata": {},
     "output_type": "execute_result"
    }
   ],
   "source": [
    "filtered_data.head()"
   ]
  },
  {
   "cell_type": "markdown",
   "id": "a6e56a94-0077-4481-a005-e40146861bfb",
   "metadata": {},
   "source": [
    "#### List of districts from the highest priced to lowest priced"
   ]
  },
  {
   "cell_type": "code",
   "execution_count": 24,
   "id": "50eff6b1-c948-47c4-9350-0ba9bf9a4fdf",
   "metadata": {},
   "outputs": [
    {
     "name": "stdout",
     "output_type": "stream",
     "text": [
      "                      mean      median          std\n",
      "İlçe                                               \n",
      "Beşiktaş       25732266.43  15000000.0  29891400.53\n",
      "Sarıyer        20189456.29  15300000.0  18469143.84\n",
      "Bakırköy       19778740.94  16000000.0  14528499.81\n",
      "Kadıköy        18157308.07  14850000.0  12953453.06\n",
      "Beykoz         15382882.88  11300000.0  12650918.93\n",
      "Üsküdar        10855150.46   7500000.0  10387062.53\n",
      "Adalar         10689090.91   9600000.0   5191773.47\n",
      "Beyoğlu        10256378.88   7200000.0   9808776.41\n",
      "Şişli           9823885.48   5900000.0  12858456.62\n",
      "Eyüpsultan      8894144.33   5547500.0   9077819.91\n",
      "Zeytinburnu     8084851.21   4500000.0  11166925.39\n",
      "Ataşehir        7869701.61   6000000.0   6508661.61\n",
      "Başakşehir      7374253.26   5500000.0   5441779.86\n",
      "Maltepe         7336558.42   6400000.0   3930614.33\n",
      "Çatalca         7291666.67   3825000.0   9426155.99\n",
      "Kartal          6265252.10   5400000.0   3475092.34\n",
      "Ümraniye        6147533.96   4900000.0   3971253.95\n",
      "Pendik          5911322.31   4600000.0   5219730.96\n",
      "Çekmeköy        5888478.62   4775000.0   4299580.23\n",
      "Büyükçekmece    5599050.54   4850000.0   3871336.63\n",
      "Şile            5549166.67   4800000.0   2602176.37\n",
      "Kağıthane       5541927.09   4200000.0   4742966.51\n",
      "Bahçelievler    5306333.68   3950000.0   4256965.84\n",
      "Tuzla           5198687.94   4400000.0   2583706.62\n",
      "Bağcılar        4711884.18   3850000.0   2789553.92\n",
      "Gaziosmanpaşa   4632364.43   3850000.0   3048548.62\n",
      "Sancaktepe      4540806.64   3850000.0   2514605.61\n",
      "Küçükçekmece    4436826.77   3650000.0   3027256.37\n",
      "Beylikdüzü      4296966.52   3600000.0   2998503.43\n",
      "Bayrampaşa      4203542.86   3500000.0   2304953.21\n",
      "Güngören        4170843.95   3500000.0   2303679.69\n",
      "Sultanbeyli     4145664.47   3950000.0   1517009.09\n",
      "Fatih           4045647.41   3250000.0   3640087.23\n",
      "Arnavutköy      3968082.41   3400000.0   2906824.23\n",
      "Avcılar         3761064.32   3190000.0   2226174.36\n",
      "Silivri         3576423.47   3112500.0   1998666.16\n",
      "Esenler         3549696.53   3250000.0   1626681.60\n",
      "Sultangazi      3538924.37   3250000.0   2244198.95\n",
      "Esenyurt        2400090.37   2150000.0   1346229.13\n"
     ]
    }
   ],
   "source": [
    "district_stats = filtered_data.groupby('İlçe')['Fiyat'].agg(['mean', 'median', 'std'])\n",
    "districts_sorted = district_stats.sort_values(by='mean', ascending=False)\n",
    "districts_sorted = districts_sorted.round(2)\n",
    "print(districts_sorted)"
   ]
  },
  {
   "cell_type": "markdown",
   "id": "165f07f0-48e6-46d9-a9e8-330da375cdae",
   "metadata": {},
   "source": [
    "Cleanin the houses which are under 15 m2 and plotting the results. "
   ]
  },
  {
   "cell_type": "code",
   "execution_count": 25,
   "id": "95aea67a-abb4-4229-9bfe-d8b629d0f4d7",
   "metadata": {},
   "outputs": [
    {
     "name": "stdout",
     "output_type": "stream",
     "text": [
      "[ 15.    20.    21.    25.    28.    29.    30.    33.    35.    37.\n",
      "  38.    39.    40.    41.    42.    43.    44.    45.    47.    48.\n",
      "  49.    50.    51.    52.    53.    54.    55.    56.    57.    58.\n",
      "  59.    60.    61.    62.    63.    64.    65.    66.    67.    68.\n",
      "  69.    70.    71.    72.    73.    74.    75.    76.    77.    78.\n",
      "  79.    80.    81.    82.    83.    84.    85.    86.    87.    88.\n",
      "  89.    90.    91.    92.    93.    94.    95.    96.    97.    98.\n",
      "  99.   100.   101.   102.   103.   104.   105.   106.   107.   108.\n",
      " 109.   110.   111.   112.   113.   114.   115.   116.   117.   118.\n",
      " 119.   120.   121.   122.   123.   124.   125.   126.   127.   128.\n",
      " 129.   130.   131.   132.   133.   134.   135.   136.   137.   138.\n",
      " 139.   140.   141.   142.   143.   144.   145.   146.   147.   148.\n",
      " 149.   150.   150.12 151.   152.   153.   154.   155.   156.   157.\n",
      " 158.   159.   160.   161.   162.   163.   164.   165.   166.   167.\n",
      " 168.   169.   170.   171.   172.   173.   174.   175.   176.   177.\n",
      " 178.   179.   180.   181.   182.   183.   184.   185.   186.   187.\n",
      " 188.   189.   190.   191.   192.   193.   194.   195.   196.   197.\n",
      " 198.   200.   201.   202.   203.   204.   205.   206.   207.   208.\n",
      " 209.   210.   211.   212.   213.   214.   215.   216.   217.   218.\n",
      " 219.   220.   221.   222.   223.   224.   225.   226.   227.   228.\n",
      " 229.   230.   231.   232.   233.   234.   235.   236.   237.   238.\n",
      " 239.   240.   241.   242.   243.   244.   245.   246.   247.   248.\n",
      " 250.   252.   253.   255.   257.   258.   260.   261.   262.   263.\n",
      " 265.   266.   267.   269.   270.   271.   272.   273.   274.   275.\n",
      " 276.   280.   281.   282.   285.   286.   287.   288.   289.   290.\n",
      " 291.   292.   294.   295.   298.   299.   300.   304.   305.   308.\n",
      " 309.   310.   311.   314.   315.   317.   318.   320.   322.   323.\n",
      " 324.   325.   326.   327.   330.   331.   332.   334.   340.   342.\n",
      " 346.   350.   355.   360.   362.   363.   365.   366.   368.   370.\n",
      " 374.   375.   377.   380.   384.   387.   389.   390.   394.   396.\n",
      " 400.   404.   407.   410.   420.   425.   430.   434.   435.   439.\n",
      " 440.   450.   452.   460.   462.   465.   470.   478.   480.   485.\n",
      " 490.   500.   508.   515.   525.   537.   550.   580.   600.  ]\n"
     ]
    }
   ],
   "source": [
    "filtered_data = filtered_data[(filtered_data['Brüt M2'] >= 15) & (filtered_data['Brüt M2'] <= 600)]\n",
    "print(np.sort(filtered_data[\"Brüt M2\"].unique()))"
   ]
  },
  {
   "cell_type": "code",
   "execution_count": 26,
   "id": "20e1f987-8b43-4f58-a24c-8cc611fef933",
   "metadata": {},
   "outputs": [
    {
     "data": {
      "text/plain": [
       "<Axes: xlabel='Brüt M2'>"
      ]
     },
     "execution_count": 26,
     "metadata": {},
     "output_type": "execute_result"
    },
    {
     "data": {
      "image/png": "[encoded data removed]",
      "text/plain": [
       "<Figure size 640x480 with 1 Axes>"
      ]
     },
     "metadata": {},
     "output_type": "display_data"
    }
   ],
   "source": [
    "sns.boxplot(data=filtered_data, x='Brüt M2')"
   ]
  },
  {
   "cell_type": "markdown",
   "id": "7722bbf4-f15e-4a1e-91e6-c6d12b9cd52c",
   "metadata": {},
   "source": [
    "Clean outliers for number of floors with manual thresholds. "
   ]
  },
  {
   "cell_type": "code",
   "execution_count": 27,
   "id": "237072be-c44f-47d9-b9ad-02dc288e2e1a",
   "metadata": {},
   "outputs": [
    {
     "name": "stdout",
     "output_type": "stream",
     "text": [
      "[ -1   1   2   3   4   5   6   7   8   9  10  11  12  13  14  15  16  17\n",
      "  18  19  20  21  22  23  24  25  26  27  28  29  30  31  32  33  34  35\n",
      "  36  37  38  39  40  42  43  44  45  46  47  48  50  51  52  54  55  60\n",
      "  62  64 119 221 253 318 520 620]\n",
      "[ 2  3  4  5  6  7  8  9 10 11 12 13 14 15 16 17 18 19 20 21 22 23 24 25\n",
      " 26 27 28 29 30 31 32 33 34 35 36 37 38 39 40 42 43 44 45 46 47 48 50 51\n",
      " 52 54 55 60]\n"
     ]
    }
   ],
   "source": [
    "print(np.sort(filtered_data[\"Kat Sayısı\"].unique()))\n",
    "\n",
    "filtered_data = filtered_data[filtered_data['Kat Sayısı'].between(1, 60, inclusive='right')] \n",
    "\n",
    "print(np.sort(filtered_data[\"Kat Sayısı\"].unique()))"
   ]
  },
  {
   "cell_type": "markdown",
   "id": "fb516d0e-a13e-49f1-a337-c95475bdec92",
   "metadata": {},
   "source": [
    "Get rid of None values for the floor of the apartment. "
   ]
  },
  {
   "cell_type": "code",
   "execution_count": 28,
   "id": "b929ba6f-0292-4f7f-be44-1a5dcd2c26e7",
   "metadata": {},
   "outputs": [
    {
     "name": "stdout",
     "output_type": "stream",
     "text": [
      "['Bahçe Katı' '3. Kat' '2. Kat' 'Giriş Katı' '6. Kat' '7. Kat' '8. Kat'\n",
      " 'Ara Kat' 'Teras Katı' '1. Kat' '4. Kat' 'Villa Katı' '12. Kat'\n",
      " 'Yüksek Giriş' '5. Kat' '10. Kat' 'En Üst Kat' '11. Kat' '21 ve üzeri'\n",
      " '9. Kat' 'Kot 2' '19. Kat' '13. Kat' 'Yarı Bodrum' 'Çatı Katı' '16. Kat'\n",
      " 'Zemin' '14. Kat' 'Kot 1' 'Bodrum ve Zemin' 'Bodrum' '15. Kat' '20. Kat'\n",
      " 'Kot 3' '18. Kat' '17. Kat' None]\n",
      "['Bahçe Katı' '3. Kat' '2. Kat' 'Giriş Katı' '6. Kat' '7. Kat' '8. Kat'\n",
      " 'Ara Kat' 'Teras Katı' '1. Kat' '4. Kat' 'Villa Katı' '12. Kat'\n",
      " 'Yüksek Giriş' '5. Kat' '10. Kat' 'En Üst Kat' '11. Kat' '21 ve üzeri'\n",
      " '9. Kat' 'Kot 2' '19. Kat' '13. Kat' 'Yarı Bodrum' 'Çatı Katı' '16. Kat'\n",
      " 'Zemin' '14. Kat' 'Kot 1' 'Bodrum ve Zemin' 'Bodrum' '15. Kat' '20. Kat'\n",
      " 'Kot 3' '18. Kat' '17. Kat']\n"
     ]
    }
   ],
   "source": [
    "print(filtered_data[\"Bulunduğu Kat\"].unique())\n",
    "filtered_data.dropna(subset=['Bulunduğu Kat'], inplace=True)\n",
    "filtered_data = filtered_data[filtered_data['Bulunduğu Kat'] != 'None']\n",
    "print(filtered_data[\"Bulunduğu Kat\"].unique())"
   ]
  },
  {
   "cell_type": "markdown",
   "id": "a3fc8abc-047e-4fb6-9a20-c5fb49bde6bb",
   "metadata": {},
   "source": [
    "Get rid of the Kot information for floors."
   ]
  },
  {
   "cell_type": "code",
   "execution_count": 29,
   "id": "a09a44eb-b454-4840-856c-62aabc053362",
   "metadata": {},
   "outputs": [
    {
     "name": "stdout",
     "output_type": "stream",
     "text": [
      "['Bahçe Katı' '3. Kat' '2. Kat' 'Giriş Katı' '6. Kat' '7. Kat' '8. Kat'\n",
      " 'Ara Kat' 'Teras Katı' '1. Kat' '4. Kat' 'Villa Katı' '12. Kat'\n",
      " 'Yüksek Giriş' '5. Kat' '10. Kat' 'En Üst Kat' '11. Kat' '21 ve üzeri'\n",
      " '9. Kat' '2' '19. Kat' '13. Kat' 'Yarı Bodrum' 'Çatı Katı' '16. Kat'\n",
      " 'Zemin' '14. Kat' '1' 'Bodrum ve Zemin' 'Bodrum' '15. Kat' '20. Kat' '3'\n",
      " '18. Kat' '17. Kat']\n"
     ]
    }
   ],
   "source": [
    "mask = filtered_data['Bulunduğu Kat'].str.startswith('Kot ')\n",
    "filtered_data.loc[mask, 'Bulunduğu Kat'] = filtered_data.loc[mask, 'Bulunduğu Kat'].str.replace('Kot ', '', regex=False)\n",
    "print(filtered_data[\"Bulunduğu Kat\"].unique())"
   ]
  },
  {
   "cell_type": "markdown",
   "id": "7f855f2f-eb7c-4136-a92d-54b8f8ba11a2",
   "metadata": {},
   "source": [
    "Replace string floor types with numerical values."
   ]
  },
  {
   "cell_type": "code",
   "execution_count": 30,
   "id": "022dd7a2-7fe9-46b2-9239-f448439e4813",
   "metadata": {},
   "outputs": [
    {
     "name": "stdout",
     "output_type": "stream",
     "text": [
      "['-1' '3' '2' '0' '6' '7' '8' 'Ara Kat' 'Teras Katı' '1' '4' 'Villa Katı'\n",
      " '12' '0.5' '5' '10' 'En Üst Kat' '11' '21 ve üzeri' '9' '19' '13' '-2'\n",
      " 'Çatı Katı' '16' '14' '-3' '15' '20' '18' '17']\n"
     ]
    }
   ],
   "source": [
    "filtered_data['Bulunduğu Kat'] = filtered_data['Bulunduğu Kat'].str.replace(r\"\\. Kat\",\"\", regex=True)\n",
    "floor_mapping = {'Bodrum Kat': -3, 'Bodrum': -3, 'Yarı Bodrum': -2, 'Bahçe Katı': -1, 'Giriş Katı': 0, 'Zemin': 0, 'Yüksek Giriş': 0.5, \n",
    "                 'Bodrum ve Zemin': -2} \n",
    "\n",
    "filtered_data['Bulunduğu Kat'] = filtered_data['Bulunduğu Kat'].replace(floor_mapping).astype(str)\n",
    "\n",
    "print(filtered_data[\"Bulunduğu Kat\"].unique())"
   ]
  },
  {
   "cell_type": "markdown",
   "id": "9bfe3538-7897-4767-a54b-2cc6b605ca38",
   "metadata": {},
   "source": [
    "Remove the type Villa Katı and manage the highest floors."
   ]
  },
  {
   "cell_type": "code",
   "execution_count": 31,
   "id": "beb0abb9-2940-4f9a-bbee-274036c168b1",
   "metadata": {},
   "outputs": [
    {
     "name": "stdout",
     "output_type": "stream",
     "text": [
      "['-1' '3' '2' '0' '6' '7' '8' 'Ara Kat' 4 '1' '4' '12' '0.5' '5' '10' '11'\n",
      " '21 ve üzeri' '9' '19' '13' '-2' 5 3 8 7 '16' '14' 6 '-3' 20 '15' '20' 2\n",
      " 11 '18' '17' 14 9 13 10 23 18 12 33 30]\n"
     ]
    }
   ],
   "source": [
    "filtered_data = filtered_data[filtered_data['Bulunduğu Kat'] != 'Villa Katı']\n",
    "\n",
    "filtered_data.loc[\n",
    "    (filtered_data['Bulunduğu Kat'] == 'En Üst Kat') | \n",
    "    (filtered_data['Bulunduğu Kat'] == 'Çatı Katı') | \n",
    "    (filtered_data['Bulunduğu Kat'] == 'Teras Katı'), \n",
    "    'Bulunduğu Kat'] = filtered_data['Kat Sayısı']\n",
    "print(filtered_data[\"Bulunduğu Kat\"].unique())"
   ]
  },
  {
   "cell_type": "markdown",
   "id": "2878929f-339a-43da-bbc8-97aa17ed6f84",
   "metadata": {},
   "source": [
    "Manage the ambigous type '21 ve üzeri' according to the number of floors in the building."
   ]
  },
  {
   "cell_type": "code",
   "execution_count": 32,
   "id": "377bd679-5cd8-42f3-9e88-45db0ff7493c",
   "metadata": {},
   "outputs": [
    {
     "name": "stdout",
     "output_type": "stream",
     "text": [
      "[30 37 45 35 31 33 50 23 36 27 29 46 28 34 24 32 22 26 39 48 42 44 47 40\n",
      " 25]\n",
      "['-1' '3' '2' '0' '6' '7' '8' 'Ara Kat' 4 '1' '4' '12' '0.5' '5' '10' '11'\n",
      " '21 ve üzeri' '9' '19' '13' '-2' 5 3 8 7 '16' '14' 6 '-3' 20 '15' '20' 2\n",
      " 11 '18' '17' 14 9 13 10 23 18 12 33 30]\n"
     ]
    }
   ],
   "source": [
    "print(filtered_data.loc[filtered_data['Bulunduğu Kat'] == '21 ve üzeri', 'Kat Sayısı'].unique())\n",
    "print(filtered_data[\"Bulunduğu Kat\"].unique())"
   ]
  },
  {
   "cell_type": "code",
   "execution_count": 33,
   "id": "26b0a4d8-480f-4bc3-86a8-d4d292d28142",
   "metadata": {},
   "outputs": [
    {
     "name": "stdout",
     "output_type": "stream",
     "text": [
      "['-1' '3' '2' '0' '6' '7' '8' 'Ara Kat' 4 '1' '4' '12' '0.5' '5' '10' '11'\n",
      " 25 '9' '19' '13' '-2' 5 3 32 8 7 '16' 40 '14' 6 30 '-3' 26 20 '15' '20'\n",
      " 28 45 2 18 31 11 22 24 '18' '17' 41 23 29 19 27 14 17 9 13 21 34 43 10 37\n",
      " 39 42 35 12 33]\n"
     ]
    }
   ],
   "source": [
    "filtered_data.loc[filtered_data['Bulunduğu Kat'] == '21 ve üzeri','Bulunduğu Kat'] = filtered_data['Kat Sayısı'].astype(int) - 5\n",
    "print(filtered_data[\"Bulunduğu Kat\"].unique())"
   ]
  },
  {
   "cell_type": "markdown",
   "id": "aa39790c-00f9-4b5b-9fd0-9e2c03f87fc3",
   "metadata": {},
   "source": [
    "Manage the ambigous type 'Ara Kat' according to the number of floors in the building."
   ]
  },
  {
   "cell_type": "code",
   "execution_count": 34,
   "id": "6297d81d-0682-4305-8000-d306f252e980",
   "metadata": {},
   "outputs": [
    {
     "name": "stdout",
     "output_type": "stream",
     "text": [
      "['-1' '3' '2' '0' '6' '7' '8' 2.5 4 '1' '4' '12' '0.5' '5' 2.0 '10' '11'\n",
      " 25 1.5 7.0 '9' 13.0 3.0 7.5 '19' 3.5 6.5 '13' '-2' 5 32 8 '16' 40 '14' 6\n",
      " 16.5 30 1.0 '-3' 26 20 '15' '20' 4.5 28 45 18 31 11 10.0 22 24 '18' '17'\n",
      " 41 23 12.0 29 19 14.5 21.0 27 15.0 14 9.5 9.0 5.5 17 34 10.5 11.5 43 16.0\n",
      " 37 15.5 39 42 35 13.5 12.5 27.5 33]\n"
     ]
    }
   ],
   "source": [
    "filtered_data.loc[filtered_data['Bulunduğu Kat'] == 'Ara Kat', 'Bulunduğu Kat'] = filtered_data['Kat Sayısı'].astype(int)/2\n",
    "print(filtered_data[\"Bulunduğu Kat\"].unique())"
   ]
  },
  {
   "cell_type": "code",
   "execution_count": 35,
   "id": "e45588c9-25ed-4f3e-b14e-fbf56f028048",
   "metadata": {},
   "outputs": [
    {
     "name": "stdout",
     "output_type": "stream",
     "text": [
      "[-1.   3.   2.   0.   6.   7.   8.   2.5  4.   1.  12.   0.5  5.  10.\n",
      " 11.  25.   1.5  9.  13.   7.5 19.   3.5  6.5 -2.  32.  16.  40.  14.\n",
      " 16.5 30.  -3.  26.  20.  15.   4.5 28.  45.  18.  31.  22.  24.  17.\n",
      " 41.  23.  29.  14.5 21.  27.   9.5  5.5 34.  10.5 11.5 43.  37.  15.5\n",
      " 39.  42.  35.  13.5 12.5 27.5 33. ]\n"
     ]
    }
   ],
   "source": [
    "filtered_data['Bulunduğu Kat'] = pd.to_numeric(filtered_data['Bulunduğu Kat'], errors='coerce')\n",
    "print(filtered_data[\"Bulunduğu Kat\"].unique())"
   ]
  },
  {
   "cell_type": "code",
   "execution_count": 36,
   "id": "f85a89ba-8be3-4f4a-94c0-1d17824cce01",
   "metadata": {},
   "outputs": [
    {
     "name": "stdout",
     "output_type": "stream",
     "text": [
      "[0 1 2 3 4 5 6 7 8 9 10 11 12 13 14 15 16 17 18 19 20 21 22 23 24 25 26 27\n",
      " 28 29 30 31 32 33 34 35 36 37 38 39 40 41 42 43 44 45 46 47 48 49 50 51\n",
      " 52 53 54 55 56 57 58 59 60 64 65 67 68 70 75 78 80 85 89 90 91 95 96 100\n",
      " 105 110 119 120 123 132 141 197 200 223 225 247 330 340 652]\n",
      "[0 1 2 3 4 5 6 7 8 9 10 11 12 13 14 15 16 17 18 19 20 21 22 23 24 25 26 27\n",
      " 28 29 30 31 32 33 34 35 36 37 38 39 40 41 42 43 44 45 46 47 48 49 50 51\n",
      " 52 53 54 55 56 57 58 59 60 64 65 67 68 70 75 78 80 85 89 90 91 95 96 100\n",
      " 105 110 119 120]\n"
     ]
    }
   ],
   "source": [
    "print(np.sort(filtered_data['Bina Yaşı'].unique()))\n",
    "filtered_data = filtered_data[filtered_data['Bina Yaşı'] <= 120]\n",
    "print(np.sort(filtered_data['Bina Yaşı'].unique()))"
   ]
  },
  {
   "cell_type": "code",
   "execution_count": 37,
   "id": "366b8bfa-d48d-4cb4-93cb-af9ef0baf1b2",
   "metadata": {},
   "outputs": [
    {
     "data": {
      "text/html": [
       "<div>\n",
       "<style scoped>\n",
       "    .dataframe tbody tr th:only-of-type {\n",
       "        vertical-align: middle;\n",
       "    }\n",
       "\n",
       "    .dataframe tbody tr th {\n",
       "        vertical-align: top;\n",
       "    }\n",
       "\n",
       "    .dataframe thead th {\n",
       "        text-align: right;\n",
       "    }\n",
       "</style>\n",
       "<table border=\"1\" class=\"dataframe\">\n",
       "  <thead>\n",
       "    <tr style=\"text-align: right;\">\n",
       "      <th></th>\n",
       "      <th>Fiyat</th>\n",
       "      <th>Brüt M2</th>\n",
       "      <th>Bulunduğu Kat</th>\n",
       "      <th>Bina Yaşı</th>\n",
       "      <th>Kat Sayısı</th>\n",
       "      <th>Eşya Durumu</th>\n",
       "      <th>Banyo Sayısı</th>\n",
       "      <th>İlçe</th>\n",
       "      <th>Mahalle</th>\n",
       "      <th>Oda</th>\n",
       "      <th>Salon</th>\n",
       "    </tr>\n",
       "  </thead>\n",
       "  <tbody>\n",
       "    <tr>\n",
       "      <th>0</th>\n",
       "      <td>5390000.0</td>\n",
       "      <td>85.0</td>\n",
       "      <td>-1.0</td>\n",
       "      <td>5</td>\n",
       "      <td>4</td>\n",
       "      <td>False</td>\n",
       "      <td>1</td>\n",
       "      <td>Maltepe</td>\n",
       "      <td>Altıntepe</td>\n",
       "      <td>2</td>\n",
       "      <td>1</td>\n",
       "    </tr>\n",
       "    <tr>\n",
       "      <th>1</th>\n",
       "      <td>5690000.0</td>\n",
       "      <td>65.0</td>\n",
       "      <td>3.0</td>\n",
       "      <td>4</td>\n",
       "      <td>26</td>\n",
       "      <td>False</td>\n",
       "      <td>1</td>\n",
       "      <td>Kartal</td>\n",
       "      <td>Orhantepe</td>\n",
       "      <td>1</td>\n",
       "      <td>1</td>\n",
       "    </tr>\n",
       "    <tr>\n",
       "      <th>2</th>\n",
       "      <td>1850000.0</td>\n",
       "      <td>112.0</td>\n",
       "      <td>2.0</td>\n",
       "      <td>0</td>\n",
       "      <td>5</td>\n",
       "      <td>False</td>\n",
       "      <td>1</td>\n",
       "      <td>Esenyurt</td>\n",
       "      <td>Çınar</td>\n",
       "      <td>3</td>\n",
       "      <td>1</td>\n",
       "    </tr>\n",
       "    <tr>\n",
       "      <th>3</th>\n",
       "      <td>895000.0</td>\n",
       "      <td>104.0</td>\n",
       "      <td>-1.0</td>\n",
       "      <td>5</td>\n",
       "      <td>4</td>\n",
       "      <td>False</td>\n",
       "      <td>1</td>\n",
       "      <td>Esenyurt</td>\n",
       "      <td>Yeşilkent</td>\n",
       "      <td>2</td>\n",
       "      <td>1</td>\n",
       "    </tr>\n",
       "    <tr>\n",
       "      <th>4</th>\n",
       "      <td>3250000.0</td>\n",
       "      <td>170.0</td>\n",
       "      <td>2.0</td>\n",
       "      <td>0</td>\n",
       "      <td>4</td>\n",
       "      <td>False</td>\n",
       "      <td>2</td>\n",
       "      <td>Beylikdüzü</td>\n",
       "      <td>Adnan Kahveci</td>\n",
       "      <td>3</td>\n",
       "      <td>1</td>\n",
       "    </tr>\n",
       "  </tbody>\n",
       "</table>\n",
       "</div>"
      ],
      "text/plain": [
       "       Fiyat  Brüt M2  Bulunduğu Kat Bina Yaşı  Kat Sayısı  Eşya Durumu  \\\n",
       "0  5390000.0     85.0           -1.0         5           4        False   \n",
       "1  5690000.0     65.0            3.0         4          26        False   \n",
       "2  1850000.0    112.0            2.0         0           5        False   \n",
       "3   895000.0    104.0           -1.0         5           4        False   \n",
       "4  3250000.0    170.0            2.0         0           4        False   \n",
       "\n",
       "   Banyo Sayısı        İlçe        Mahalle  Oda  Salon  \n",
       "0             1     Maltepe      Altıntepe    2      1  \n",
       "1             1      Kartal      Orhantepe    1      1  \n",
       "2             1    Esenyurt          Çınar    3      1  \n",
       "3             1    Esenyurt      Yeşilkent    2      1  \n",
       "4             2  Beylikdüzü  Adnan Kahveci    3      1  "
      ]
     },
     "execution_count": 37,
     "metadata": {},
     "output_type": "execute_result"
    }
   ],
   "source": [
    "filtered_data.head()"
   ]
  },
  {
   "cell_type": "markdown",
   "id": "d030ae7a-48af-4ab5-a3c0-24de3d66e4be",
   "metadata": {},
   "source": [
    "Remove some of the columns which will not be used for the final model."
   ]
  },
  {
   "cell_type": "code",
   "execution_count": 38,
   "id": "66615d4f-dd69-45bb-b052-33322c60c226",
   "metadata": {},
   "outputs": [
    {
     "data": {
      "text/html": [
       "<div>\n",
       "<style scoped>\n",
       "    .dataframe tbody tr th:only-of-type {\n",
       "        vertical-align: middle;\n",
       "    }\n",
       "\n",
       "    .dataframe tbody tr th {\n",
       "        vertical-align: top;\n",
       "    }\n",
       "\n",
       "    .dataframe thead th {\n",
       "        text-align: right;\n",
       "    }\n",
       "</style>\n",
       "<table border=\"1\" class=\"dataframe\">\n",
       "  <thead>\n",
       "    <tr style=\"text-align: right;\">\n",
       "      <th></th>\n",
       "      <th>Fiyat</th>\n",
       "      <th>Brüt M2</th>\n",
       "      <th>Bulunduğu Kat</th>\n",
       "      <th>Bina Yaşı</th>\n",
       "      <th>İlçe</th>\n",
       "      <th>Mahalle</th>\n",
       "      <th>Oda</th>\n",
       "    </tr>\n",
       "  </thead>\n",
       "  <tbody>\n",
       "    <tr>\n",
       "      <th>0</th>\n",
       "      <td>5390000.0</td>\n",
       "      <td>85.0</td>\n",
       "      <td>-1.0</td>\n",
       "      <td>5</td>\n",
       "      <td>Maltepe</td>\n",
       "      <td>Altıntepe</td>\n",
       "      <td>2</td>\n",
       "    </tr>\n",
       "    <tr>\n",
       "      <th>1</th>\n",
       "      <td>5690000.0</td>\n",
       "      <td>65.0</td>\n",
       "      <td>3.0</td>\n",
       "      <td>4</td>\n",
       "      <td>Kartal</td>\n",
       "      <td>Orhantepe</td>\n",
       "      <td>1</td>\n",
       "    </tr>\n",
       "    <tr>\n",
       "      <th>2</th>\n",
       "      <td>1850000.0</td>\n",
       "      <td>112.0</td>\n",
       "      <td>2.0</td>\n",
       "      <td>0</td>\n",
       "      <td>Esenyurt</td>\n",
       "      <td>Çınar</td>\n",
       "      <td>3</td>\n",
       "    </tr>\n",
       "    <tr>\n",
       "      <th>3</th>\n",
       "      <td>895000.0</td>\n",
       "      <td>104.0</td>\n",
       "      <td>-1.0</td>\n",
       "      <td>5</td>\n",
       "      <td>Esenyurt</td>\n",
       "      <td>Yeşilkent</td>\n",
       "      <td>2</td>\n",
       "    </tr>\n",
       "    <tr>\n",
       "      <th>4</th>\n",
       "      <td>3250000.0</td>\n",
       "      <td>170.0</td>\n",
       "      <td>2.0</td>\n",
       "      <td>0</td>\n",
       "      <td>Beylikdüzü</td>\n",
       "      <td>Adnan Kahveci</td>\n",
       "      <td>3</td>\n",
       "    </tr>\n",
       "  </tbody>\n",
       "</table>\n",
       "</div>"
      ],
      "text/plain": [
       "       Fiyat  Brüt M2  Bulunduğu Kat Bina Yaşı        İlçe        Mahalle  Oda\n",
       "0  5390000.0     85.0           -1.0         5     Maltepe      Altıntepe    2\n",
       "1  5690000.0     65.0            3.0         4      Kartal      Orhantepe    1\n",
       "2  1850000.0    112.0            2.0         0    Esenyurt          Çınar    3\n",
       "3   895000.0    104.0           -1.0         5    Esenyurt      Yeşilkent    2\n",
       "4  3250000.0    170.0            2.0         0  Beylikdüzü  Adnan Kahveci    3"
      ]
     },
     "execution_count": 38,
     "metadata": {},
     "output_type": "execute_result"
    }
   ],
   "source": [
    "model_data = filtered_data.drop(columns=[\"Kat Sayısı\", \"Eşya Durumu\", \"Banyo Sayısı\", \"Salon\"])\n",
    "model_data.head()"
   ]
  },
  {
   "cell_type": "markdown",
   "id": "b2df5cf3-575d-4d64-9bbd-f9a2b633d182",
   "metadata": {},
   "source": [
    "Rewrite data in a file."
   ]
  },
  {
   "cell_type": "code",
   "execution_count": 39,
   "id": "cc692eb0-8742-450a-ac72-55a4eb745bba",
   "metadata": {},
   "outputs": [],
   "source": [
    "import json\n",
    "model_dict = model_data.to_dict(orient='records') \n",
    "\n",
    "output_file = 'cleaned_data_model.json'  # Or any other desired file name\n",
    "\n",
    "with open(output_file, 'w', encoding='utf-8') as f: \n",
    "    json.dump(model_dict, f, indent=4, ensure_ascii=False)"
   ]
  },
  {
   "cell_type": "code",
   "execution_count": null,
   "id": "20191beb-e0f7-4043-b399-f1ffe844b9f6",
   "metadata": {},
   "outputs": [],
   "source": []
  }
 ],
 "metadata": {
  "kernelspec": {
   "display_name": "emlak_project",
   "language": "python",
   "name": "emlak_project"
  },
  "language_info": {
   "codemirror_mode": {
    "name": "ipython",
    "version": 3
   },
   "file_extension": ".py",
   "mimetype": "text/x-python",
   "name": "python",
   "nbconvert_exporter": "python",
   "pygments_lexer": "ipython3",
   "version": "3.12.1"
  }
 },
 "nbformat": 4,
 "nbformat_minor": 5
}
